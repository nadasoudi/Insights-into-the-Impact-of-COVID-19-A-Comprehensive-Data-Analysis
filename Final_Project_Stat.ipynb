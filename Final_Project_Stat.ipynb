{
  "cells": [
    {
      "cell_type": "markdown",
      "metadata": {
        "id": "s1Fo0cU6KMF9"
      },
      "source": [
        "#Analyzing U.S. COVID-19 Data\n",
        "\n",
        "---\n",
        "\n",
        "\n",
        "\n",
        "---\n",
        "\n"
      ]
    },
    {
      "cell_type": "markdown",
      "metadata": {
        "id": "trfVr0SIKqmZ"
      },
      "source": [
        "##Imports:\n",
        "\n",
        "---\n",
        "\n"
      ]
    },
    {
      "cell_type": "code",
      "execution_count": null,
      "metadata": {
        "id": "HAb2gUvzKvWc"
      },
      "outputs": [],
      "source": [
        "import pandas as pd\n",
        "import matplotlib.pyplot as plt\n",
        "import seaborn as sns\n",
        "import numpy as np\n",
        "from scipy.stats import chi2_contingency\n",
        "from scipy.stats import f_oneway"
      ]
    },
    {
      "cell_type": "markdown",
      "metadata": {
        "id": "barMBatPLF2T"
      },
      "source": [
        "##Loading the data:\n",
        "\n",
        "---\n",
        "\n"
      ]
    },
    {
      "cell_type": "code",
      "execution_count": null,
      "metadata": {
        "colab": {
          "base_uri": "https://localhost:8080/"
        },
        "id": "ZsAlUKqcLKT7",
        "outputId": "95886eea-2b91-4d1a-f51a-0df7cf0b77c3"
      },
      "outputs": [
        {
          "output_type": "stream",
          "name": "stdout",
          "text": [
            "Drive already mounted at /content/drive; to attempt to forcibly remount, call drive.mount(\"/content/drive\", force_remount=True).\n"
          ]
        },
        {
          "output_type": "stream",
          "name": "stderr",
          "text": [
            "<ipython-input-3-49f0b8ab0a51>:4: DtypeWarning: Columns (3) have mixed types. Specify dtype option on import or set low_memory=False.\n",
            "  df1 = pd.read_csv(data1_path)\n"
          ]
        }
      ],
      "source": [
        "from google.colab import drive\n",
        "drive.mount('/content/drive')\n",
        "data1_path = '/content/drive/Shareddrives/Pinkode/data.csv'\n",
        "df1 = pd.read_csv(data1_path)\n",
        "data2_path = '/content/drive/Shareddrives/Pinkode/pulse_puf_most_recent.csv'\n",
        "df2 = pd.read_csv(data2_path)"
      ]
    },
    {
      "cell_type": "code",
      "execution_count": null,
      "metadata": {
        "id": "c4Xc4d1Kgwxr"
      },
      "outputs": [],
      "source": [
        "# Removing duplicates\n",
        "df_part1 = df1.drop_duplicates()"
      ]
    },
    {
      "cell_type": "code",
      "execution_count": null,
      "metadata": {
        "id": "RIKvq8PKhOWV"
      },
      "outputs": [],
      "source": [
        "# Removing duplicates\n",
        "df2_part1 = df2.drop_duplicates()"
      ]
    },
    {
      "cell_type": "code",
      "execution_count": null,
      "metadata": {
        "id": "Sw0RtHTn1iQC"
      },
      "outputs": [],
      "source": [
        "print(df2_part1.columns)"
      ]
    },
    {
      "cell_type": "code",
      "execution_count": null,
      "metadata": {
        "colab": {
          "base_uri": "https://localhost:8080/",
          "height": 176
        },
        "id": "u8z65lRT_kEf",
        "outputId": "bfbf3973-1be1-4f93-caac-ed5942c1a0df"
      },
      "outputs": [
        {
          "output_type": "error",
          "ename": "NameError",
          "evalue": "name 'df_part1' is not defined",
          "traceback": [
            "\u001b[0;31m---------------------------------------------------------------------------\u001b[0m",
            "\u001b[0;31mNameError\u001b[0m                                 Traceback (most recent call last)",
            "\u001b[0;32m<ipython-input-4-f961ad0663dd>\u001b[0m in \u001b[0;36m<cell line: 5>\u001b[0;34m()\u001b[0m\n\u001b[1;32m      3\u001b[0m                    \u001b[0;34m'case_positive_specimen_interval'\u001b[0m\u001b[0;34m,\u001b[0m \u001b[0;34m'case_onset_interval'\u001b[0m\u001b[0;34m,\u001b[0m \u001b[0;34m'process'\u001b[0m\u001b[0;34m,\u001b[0m \u001b[0;34m'exposure_yn'\u001b[0m\u001b[0;34m,\u001b[0m\u001b[0;34m\u001b[0m\u001b[0;34m\u001b[0m\u001b[0m\n\u001b[1;32m      4\u001b[0m                    'current_status']\n\u001b[0;32m----> 5\u001b[0;31m \u001b[0mdf_part1\u001b[0m \u001b[0;34m=\u001b[0m \u001b[0mdf_part1\u001b[0m\u001b[0;34m.\u001b[0m\u001b[0mdrop\u001b[0m\u001b[0;34m(\u001b[0m\u001b[0mcolumns\u001b[0m\u001b[0;34m=\u001b[0m\u001b[0mcolumns_to_drop_part1\u001b[0m\u001b[0;34m)\u001b[0m\u001b[0;34m\u001b[0m\u001b[0;34m\u001b[0m\u001b[0m\n\u001b[0m",
            "\u001b[0;31mNameError\u001b[0m: name 'df_part1' is not defined"
          ]
        }
      ],
      "source": [
        "# Drop columns\n",
        "columns_to_drop_part1 = ['state_fips_code', 'res_county', 'county_fips_code', 'ethnicity',\n",
        "                   'case_positive_specimen_interval', 'case_onset_interval', 'process', 'exposure_yn',\n",
        "                   'current_status']\n",
        "df_part1 = df_part1.drop(columns=columns_to_drop_part1)"
      ]
    },
    {
      "cell_type": "code",
      "execution_count": null,
      "metadata": {
        "id": "gq2Du0u8T059"
      },
      "outputs": [],
      "source": [
        "df_part1.info()"
      ]
    },
    {
      "cell_type": "markdown",
      "metadata": {
        "id": "Tc9p_QjUVI24"
      },
      "source": [
        "Note:\n",
        "\n",
        "The number of entries decreases from \"19020962 entries\" to \"841485 entries\"\n",
        "When i removed the duplications"
      ]
    },
    {
      "cell_type": "markdown",
      "source": [
        "General flow:-\n",
        "- Loading the very large data\n",
        "- cleaning the data\n",
        "- Starting with some analysis, Relations, Comparing to deap understand our data\n",
        "- Hypothese testing\n",
        "- Regression\n",
        "- Bonus task\n",
        "- Conclussion"
      ],
      "metadata": {
        "id": "3hHhNcARXbSQ"
      }
    },
    {
      "cell_type": "markdown",
      "metadata": {
        "id": "v4Hy8bBiKUCP"
      },
      "source": [
        "##PART 1: Exploratory Analysis:\n",
        "\n",
        "---\n",
        "\n"
      ]
    },
    {
      "cell_type": "markdown",
      "metadata": {
        "id": "fm6TncG3KoCS"
      },
      "source": [
        "**Use the appropriate statistics and plots to investigate the following:**"
      ]
    },
    {
      "cell_type": "markdown",
      "metadata": {
        "id": "TiZwEsX2KyL3"
      },
      "source": [
        "###1. The total number of hospitalizations versus deaths from COVID-19 over the entire US per month-year timestamp"
      ]
    },
    {
      "cell_type": "code",
      "execution_count": null,
      "metadata": {
        "id": "8l_p31uBj1OL"
      },
      "outputs": [],
      "source": [
        "part1_1 = df_part1[[ 'case_month', 'hosp_yn', 'death_yn']].copy()\n",
        "\n",
        "part1_1['hosp_yn'] = part1_1['hosp_yn'].replace({'Missing': 0, 'Unknown': 0})\n",
        "part1_1['death_yn'] = part1_1['death_yn'].replace({'Missing': 0, 'Unknown': 0})\n",
        "\n",
        "part1_1['hosp_yn'] = part1_1['hosp_yn'].replace({'No': 0, 'Yes': 1})\n",
        "part1_1['death_yn'] = part1_1['death_yn'].replace({'No': 0, 'Yes': 1})\n",
        "\n",
        "grouped_hosp_yn = part1_1.groupby(['case_month'])['hosp_yn'].sum().reset_index()\n",
        "grouped_death_yn = part1_1.groupby(['case_month'])['death_yn'].sum().reset_index()\n",
        "\n",
        "# Create a line plot of the total number of hospitalizations and deaths by month-year\n",
        "fig, ax = plt.subplots(figsize=(15, 6))\n",
        "ax.plot(grouped_hosp_yn['case_month'], grouped_hosp_yn['hosp_yn'], label='Hospitalizations')\n",
        "ax.plot(grouped_death_yn['case_month'], grouped_death_yn['death_yn'], label='Deaths', color='red')\n",
        "ax.set_xlabel('case_month')\n",
        "ax.set_ylabel('Total Number')\n",
        "plt.xticks(rotation=45)\n",
        "ax.set_title('Total Hospitalizations vs Deaths by Month-Year')\n",
        "ax.legend()"
      ]
    },
    {
      "cell_type": "markdown",
      "source": [
        "Technical documentation:\n",
        "\n",
        "Description:\n",
        "the relation between the death and hosp and group ages\n",
        "Usage:\n",
        "show how the age affect both of them\n",
        "Collection:\n",
        "we read all data in df1, then remove the duplicates in part1 dataframe, then remove all un needed columns we will not use in this part.\n",
        "Cleaning:\n",
        "we remove the nulls, missing data, and unknows\n",
        "Steps:\n",
        "after reading the data we calculate the mean for ever droup of age for both death and hosp\n",
        "Challenges:\n",
        "plot both of them in the same graph to compare\n",
        "Limitations:\n",
        "\n",
        "Assumptions:\n",
        "our null values is unvalid they are very small, so we can ignore"
      ],
      "metadata": {
        "id": "Y30R6wP3Oob0"
      }
    },
    {
      "cell_type": "markdown",
      "metadata": {
        "id": "mHIXnl7QLM-i"
      },
      "source": [
        "### 2. The average rates of COVID-related deaths relative to patient demographics\n"
      ]
    },
    {
      "cell_type": "code",
      "execution_count": null,
      "metadata": {
        "id": "yyLwmKEEyj2T"
      },
      "outputs": [],
      "source": [
        "print(part1_2[\"sex\"].unique())\n",
        "print(part1_2[\"age_group\"].unique())\n",
        "print(part1_2[\"race\"].unique())\n",
        "print(part1_2[\"death_yn\"].unique())"
      ]
    },
    {
      "cell_type": "code",
      "execution_count": null,
      "metadata": {
        "id": "H2yxLrRnw4u3"
      },
      "outputs": [],
      "source": [
        "# Create a subset of the data with relevant columns\n",
        "part1_2 = df_part1[['sex', 'age_group', 'race', 'death_yn']].copy()\n",
        "part1_2 = part1_2.replace({'Yes': 1, 'No': 0, 'Unknown': None, 'Missing': None, 'NA': None, 'Other': None})\n",
        "part1_2 = part1_2.dropna()\n",
        "\n",
        "# Ensure 'death_yn' is numeric\n",
        "part1_2['death_yn'] = part1_2['death_yn'].astype(int)\n",
        "\n",
        "# Group by age group, sex, and race, and calculate the mean death rate\n",
        "grouped_third = part1_2.groupby(['age_group', 'sex', 'race']).mean()['death_yn'].reset_index()\n",
        "\n",
        "# Sort values for better visualization\n",
        "grouped_third = grouped_third.sort_values(by='death_yn', ascending=False)\n",
        "\n",
        "\n",
        "############################################################################################\n",
        "\n",
        "# Set the size of the plot\n",
        "plt.figure(figsize=(16, 10))\n",
        "\n",
        "# Create a bar plot with age group, sex, and race\n",
        "sns.catplot(\n",
        "    x='age_group',\n",
        "    y='death_yn',\n",
        "    hue='sex',\n",
        "    col='race',\n",
        "    data=grouped_third,\n",
        "    kind='bar',\n",
        "    height=5,\n",
        "    aspect=1.2,\n",
        "    palette={'Male': 'steelblue', 'Female': 'pink'}\n",
        ")\n",
        "\n",
        "# Adjust the plot\n",
        "plt.subplots_adjust(top=0.9)\n",
        "plt.suptitle('COVID-19 Death Rate by Demographics')\n",
        "plt.show()\n"
      ]
    },
    {
      "cell_type": "markdown",
      "source": [
        "Technical documentation:\n",
        "\n",
        "Description:\n",
        "the relation between the groupage race sex death\n",
        "Usage:\n",
        "show how the demographics affect death rates\n",
        "Collection:\n",
        "we read all data in df1, then remove the duplicates in part1 dataframe, then remove all un needed columns we will not use in this part.\n",
        "Cleaning:\n",
        "we remove the nulls, missing data, and unknows\n",
        "Steps:\n",
        "after reading the data we calculate the mean for ever droup of age for all demographics\n",
        "Challenges:\n",
        "plot all of them in the same graph to compare\n",
        "Limitations:\n",
        "\n",
        "Assumptions:\n",
        "our null values is unvalid they are very small, so we can ignore"
      ],
      "metadata": {
        "id": "u2uF9hMgTBsr"
      }
    },
    {
      "cell_type": "markdown",
      "metadata": {
        "id": "eQih2cikLU9m"
      },
      "source": [
        "### 3. The rates of COVID-related hospitalization and death with age (across age groups)."
      ]
    },
    {
      "cell_type": "code",
      "execution_count": null,
      "metadata": {
        "id": "q87nZn2OLeYZ"
      },
      "outputs": [],
      "source": [
        "part1_3 = df_part1[[ 'age_group', 'hosp_yn', 'death_yn']].copy()\n",
        "\n",
        "part1_3 = part1_3.replace({'Yes': 1, 'No': 0, 'Unknown': None, 'Missing': None, 'NA': None, 'Other': None})\n",
        "part1_3 = part1_3.dropna()\n",
        "\n",
        "grouped_hosp_yn = part1_3.groupby(['age_group'])['hosp_yn'].sum().reset_index()\n",
        "grouped_death_yn = part1_3.groupby(['age_group'])['death_yn'].sum().reset_index()\n",
        "\n",
        "# Create a line plot of the total number of hospitalizations and deaths by month-year\n",
        "fig, ax = plt.subplots(figsize=(15, 6))\n",
        "ax.plot(grouped_hosp_yn['age_group'], grouped_hosp_yn['hosp_yn'], label='Hospitalizations')\n",
        "ax.plot(grouped_death_yn['age_group'], grouped_death_yn['death_yn'], label='Deaths', color='red')\n",
        "ax.set_xlabel('age_group')\n",
        "ax.set_ylabel('Total Number')\n",
        "plt.xticks(rotation=45)\n",
        "ax.set_title('Total Hospitalizations vs Deaths by age group')\n",
        "ax.legend()"
      ]
    },
    {
      "cell_type": "code",
      "execution_count": null,
      "metadata": {
        "id": "_t4zwRiy4jPQ"
      },
      "outputs": [],
      "source": [
        "part1_3 = df_part1[[ 'age_group', 'hosp_yn', 'death_yn']].copy()\n",
        "\n",
        "part1_3 = part1_3.replace({'Yes': 1, 'No': 0, 'Unknown': None, 'Missing': None, 'NA': None, 'Other': None})\n",
        "part1_3 = part1_3.dropna()\n",
        "\n",
        "grouped_hosp_yn = part1_3.groupby(['age_group'])['hosp_yn'].sum().reset_index()\n",
        "grouped_death_yn = part1_3.groupby(['age_group'])['death_yn'].sum().reset_index()\n",
        "\n",
        "# Create a bar chart of the total number of hospitalizations and deaths by age group\n",
        "fig, ax = plt.subplots(figsize=(15, 6))\n",
        "ax.bar(grouped_hosp_yn['age_group'], grouped_hosp_yn['hosp_yn'], label='Hospitalizations', color='darkseagreen')\n",
        "ax.bar(grouped_death_yn['age_group'], grouped_death_yn['death_yn'], label='Deaths', color='crimson')\n",
        "ax.set_xlabel('Age Group')\n",
        "ax.set_ylabel('Total Number')\n",
        "ax.set_title('Total Hospitalizations vs Deaths by Age Group')\n",
        "ax.legend()\n",
        "plt.xticks(rotation=45)\n",
        "plt.show()"
      ]
    },
    {
      "cell_type": "markdown",
      "source": [
        "Technical documentation:\n",
        "\n",
        "Description:\n",
        "the relation between the death and hosp and group ages\n",
        "Usage:\n",
        "show how the age affect both of them\n",
        "Collection:italicized text\n",
        "we read all data in df1, then remove the duplicates in part1 dataframe, then remove all un needed columns we will not use in this part.\n",
        "Cleaning:\n",
        "we remove the nulls, missing data, and unknows\n",
        "Steps:\n",
        "after reading the data we calculate the mean for ever droup of age for both death and hosp\n",
        "Challenges:\n",
        "plot both of them in the same graph to compare\n",
        "Limitations:\n",
        "\n",
        "Assumptions:\n",
        "our null values is unvalid they are very small, so we can ignore"
      ],
      "metadata": {
        "id": "8n5tPak8TeM_"
      }
    },
    {
      "cell_type": "markdown",
      "metadata": {
        "id": "Y54M8LOiLjcT"
      },
      "source": [
        "### 4. Average rate of COVID-related hospitalization and death per state over the entire study period."
      ]
    },
    {
      "cell_type": "code",
      "execution_count": null,
      "metadata": {
        "id": "6WfHMoP365Y8"
      },
      "outputs": [],
      "source": [
        "part1_4 = df_part1[[ 'res_state', 'hosp_yn', 'death_yn']].copy()\n",
        "\n",
        "part1_4 = part1_4.replace({'Yes': 1, 'No': 0, 'Unknown': None, 'Missing': None, 'NA': None, 'Other': None})\n",
        "part1_4 = part1_4.dropna()\n",
        "\n",
        "grouped_hosp_yn = part1_4.groupby(['res_state'])['hosp_yn'].sum().reset_index()\n",
        "grouped_death_yn = part1_4.groupby(['res_state'])['death_yn'].sum().reset_index()\n",
        "\n",
        "# Create a line plot of the total number of hospitalizations and deaths by month-year\n",
        "fig, ax = plt.subplots(figsize=(15, 6))\n",
        "ax.plot(grouped_hosp_yn['res_state'], grouped_hosp_yn['hosp_yn'], label='Hospitalizations')\n",
        "ax.plot(grouped_death_yn['res_state'], grouped_death_yn['death_yn'], label='Deaths', color='red')\n",
        "ax.set_xlabel('res_state')\n",
        "ax.set_ylabel('Total Number')\n",
        "plt.xticks(rotation=45)\n",
        "ax.set_title('Total Hospitalizations vs Deaths by res_state')\n",
        "ax.legend()"
      ]
    },
    {
      "cell_type": "code",
      "execution_count": null,
      "metadata": {
        "id": "k2HU7A1TLp2G"
      },
      "outputs": [],
      "source": [
        "part1_4 = df_part1[[ 'res_state', 'hosp_yn', 'death_yn']].copy()\n",
        "\n",
        "part1_4 = part1_4.replace({'Yes': 1, 'No': 0, 'Unknown': None, 'Missing': None, 'NA': None, 'Other': None})\n",
        "part1_4 = part1_4.dropna()\n",
        "\n",
        "grouped_hosp_yn = part1_4.groupby(['res_state'])['hosp_yn'].sum().reset_index()\n",
        "grouped_death_yn = part1_4.groupby(['res_state'])['death_yn'].sum().reset_index()\n",
        "\n",
        "# Create a bar chart of the total number of hospitalizations and deaths by age group\n",
        "fig, ax = plt.subplots(figsize=(15, 6))\n",
        "ax.bar(grouped_hosp_yn['res_state'], grouped_hosp_yn['hosp_yn'], label='Hospitalizations', color='darkseagreen')\n",
        "ax.bar(grouped_death_yn['res_state'], grouped_death_yn['death_yn'], label='Deaths', color='crimson')\n",
        "ax.set_xlabel('Age Group')\n",
        "ax.set_ylabel('Total Number')\n",
        "ax.set_title('Total Hospitalizations vs Deaths by Age Group')\n",
        "ax.legend()\n",
        "plt.xticks(rotation=45)\n",
        "plt.show()"
      ]
    },
    {
      "cell_type": "markdown",
      "source": [
        "Technical documentation:\n",
        "\n",
        "Description:\n",
        "the relation between the death and hosp and race\n",
        "Usage:\n",
        "show how the race affect both of them\n",
        "Collection:\n",
        "we read all data in df1, then remove the duplicates in part1 dataframe, then remove all un needed columns we will not use in this part.\n",
        "Cleaning:\n",
        "we remove the nulls, missing data, and unknows\n",
        "Steps:\n",
        "after reading the data we calculate the mean for ever droup of race for both death and hosp\n",
        "Challenges:\n",
        "plot both of them in the same graph to compare\n",
        "Limitations:\n",
        "\n",
        "Assumptions:\n",
        "our null values is unvalid they are very small, so we can ignore"
      ],
      "metadata": {
        "id": "0n_ettFiTud8"
      }
    },
    {
      "cell_type": "markdown",
      "metadata": {
        "id": "0RsYNG3ULqai"
      },
      "source": [
        "###5. The relationship between age, pre-existing medical conditions and/or risk behaviors, and rate of admittance to the ICU."
      ]
    },
    {
      "cell_type": "code",
      "execution_count": null,
      "metadata": {
        "id": "fFZA0cUhLzQ2"
      },
      "outputs": [],
      "source": [
        "# Assuming df_part1 is your DataFrame and 'age_group' is the age_group column\n",
        "part1_5 = df_part1[['age_group', 'underlying_conditions_yn', 'icu_yn']].copy()\n",
        "\n",
        "part1_5 = part1_5.replace({'Yes': 1, 'No': 0, 'Unknown': None, 'Missing': None, 'NA': None, 'Other': None})\n",
        "part1_5 = part1_5.dropna()\n",
        "\n",
        "grouped_underlying_conditions_yn = part1_5.groupby(['age_group'])['underlying_conditions_yn'].sum().reset_index()\n",
        "grouped_icu_yn = part1_5.groupby(['age_group'])['icu_yn'].sum().reset_index()\n",
        "\n",
        "# Set the width of each bar\n",
        "bar_width = 0.35\n",
        "\n",
        "# Define the x-axis positions for the bars\n",
        "x = np.arange(len(grouped_underlying_conditions_yn))\n",
        "\n",
        "# Create a bar chart of the total number of underlying_conditions_yn and icu_yn by age_group category\n",
        "fig, ax = plt.subplots(figsize=(15, 6))\n",
        "ax.bar(x - bar_width/2, grouped_underlying_conditions_yn['underlying_conditions_yn'], bar_width, label='underlying_conditions_yn', color='forestgreen')\n",
        "ax.bar(x + bar_width/2, grouped_icu_yn['icu_yn'], bar_width, label='icu_yn', color='coral')\n",
        "\n",
        "# Set the x-axis labels to be the age_group categories\n",
        "ax.set_xticks(x)\n",
        "ax.set_xticklabels(grouped_underlying_conditions_yn['age_group'], rotation=45)\n",
        "\n",
        "ax.set_xlabel('age_group Group')\n",
        "ax.set_ylabel('Total Number')\n",
        "ax.set_title('Total A vs B by age_group Group')\n",
        "ax.legend()\n",
        "plt.show()"
      ]
    },
    {
      "cell_type": "markdown",
      "source": [
        "Technical documentation:\n",
        "\n",
        "Description:\n",
        "the relation between the condition and isu and group ages\n",
        "Usage:\n",
        "show how the age affect both of them\n",
        "Collection:\n",
        "we read all data in df1, then remove the duplicates in part1 dataframe, then remove all un needed columns we will not use in this part.\n",
        "Cleaning:\n",
        "we remove the nulls, missing data, and unknows\n",
        "Steps:\n",
        "after reading the data we calculate the mean for ever droup of age for both conditions and icu\n",
        "Challenges:\n",
        "plot both of them in the same graph to compare\n",
        "Limitations:\n",
        "\n",
        "Assumptions:\n",
        "our null values is unvalid they are very small, so we can ignore"
      ],
      "metadata": {
        "id": "rsArAoxbUQI6"
      }
    },
    {
      "cell_type": "markdown",
      "metadata": {
        "id": "hyFYyMO7LzxL"
      },
      "source": [
        "### 6. The rate of expected employment loss due to COVID-19 and sector of employment."
      ]
    },
    {
      "cell_type": "code",
      "execution_count": null,
      "metadata": {
        "id": "66eDGLpSaoDb"
      },
      "outputs": [],
      "source": [
        "df_part1_puf =df2.drop_duplicates()"
      ]
    },
    {
      "cell_type": "code",
      "execution_count": null,
      "metadata": {
        "id": "YlHpjbslL0De"
      },
      "outputs": [],
      "source": [
        "# Assuming df_part1 is your DataFrame and 'kindwork' is the kindwork column\n",
        "part1_6 = df_part1_puf[['kindwork', 'expctloss']].copy()\n",
        "\n",
        "part1_6['kindwork'] = part1_6['kindwork'].replace({1: 'Government', 2: 'Private company', 3: 'Non-profit organization', 4: 'Self-employed', 5: 'Working in a family business', -88: None, -99: None})\n",
        "part1_6['expctloss'] = part1_6['expctloss'].replace({1: 'Yes', 2: 'No', -88: None, -99: None})\n",
        "part1_6 = part1_6.replace({'Yes': 1, 'No': 0, 'Unknown': None, 'Missing': None, 'NA': None, 'Other': None})\n",
        "part1_6 = part1_6.dropna()\n",
        "\n",
        "grouped_expctloss = part1_6.groupby(['kindwork'])['expctloss'].value_counts(normalize=True).unstack().fillna(0)\n",
        "\n",
        "#Rearrange\n",
        "grouped_expctloss = grouped_expctloss.sort_values(by=grouped_expctloss.columns[0], ascending=False)\n",
        "\n",
        "import matplotlib.pyplot as plt\n",
        "\n",
        "# Set the x-axis positions for the bars\n",
        "x = np.arange(len(grouped_expctloss))\n",
        "\n",
        "# Set the width of each bar\n",
        "bar_width = 0.35\n",
        "\n",
        "# Create a bar chart\n",
        "fig, ax = plt.subplots(figsize=(10, 6))\n",
        "ax.bar(x, grouped_expctloss[1], bar_width, label='yes')\n",
        "#ax.bar(x + bar_width, grouped_expctloss[0], bar_width, label='2')\n",
        "\n",
        "# Set the x-axis labels to be the kindwork categories\n",
        "#ax.set_xticks(x + bar_width/2)\n",
        "ax.set_xticks(x)\n",
        "ax.set_xticklabels(grouped_expctloss.index, rotation=45)\n",
        "\n",
        "ax.set_xlabel('kindwork')\n",
        "ax.set_ylabel('expctloss')\n",
        "ax.set_title('expctloss by kindwork')\n",
        "ax.legend(title='expctloss')\n",
        "\n",
        "plt.tight_layout()\n",
        "plt.show()"
      ]
    },
    {
      "cell_type": "markdown",
      "source": [
        "Technical documentation:\n",
        "\n",
        "Description:\n",
        "the relation between the kindwork and expctloss\n",
        "Usage:\n",
        "show how the age affect both of them\n",
        "Collection:\n",
        "we read all data in df1, then remove the duplicates in part1 dataframe, then remove all un needed columns we will not use in this part.\n",
        "Cleaning:\n",
        "we remove the nulls, missing data, and unknows\n",
        "Steps:\n",
        "after reading the data we calculate the mean for ever droup of kindwork for both expctloss\n",
        "Challenges:\n",
        "plot both of them in the same graph to compare\n",
        "dealing with new data set\n",
        "Limitations:\n",
        "\n",
        "Assumptions:\n",
        "our null values is unvalid they are very small, so we can ignore"
      ],
      "metadata": {
        "id": "U-ar2Hh8UjLd"
      }
    },
    {
      "cell_type": "markdown",
      "metadata": {
        "id": "Eu9Nd2smL0UT"
      },
      "source": [
        "### 7. The rate of expected employment loss due to COVID-19 relative to responders demographics."
      ]
    },
    {
      "cell_type": "code",
      "execution_count": null,
      "metadata": {
        "id": "znyI0WELL0jD"
      },
      "outputs": [],
      "source": [
        "# Assuming df_part1 is your DataFrame and 'egender' is the egender column\n",
        "part1_7 = df_part1_puf[['egender', 'expctloss']].copy()\n",
        "\n",
        "part1_7['egender'] = part1_7['egender'].replace({1: 'Male', 2: 'Female'})\n",
        "part1_7['expctloss'] = part1_7['expctloss'].replace({1: 'Yes', 2: 'No', -88: None, -99: None})\n",
        "part1_7 = part1_7.replace({'Yes': 1, 'No': 0, 'Unknown': None, 'Missing': None, 'NA': None, 'Other': None})\n",
        "part1_7 = part1_7.dropna()\n",
        "\n",
        "grouped_expctloss = part1_7.groupby(['egender'])['expctloss'].value_counts(normalize=False).unstack().fillna(0)\n",
        "\n",
        "#Rearrange\n",
        "grouped_expctloss = grouped_expctloss.sort_values(by=grouped_expctloss.columns[0], ascending=False)\n",
        "\n",
        "import matplotlib.pyplot as plt\n",
        "\n",
        "# Set the x-axis positions for the bars\n",
        "x = np.arange(len(grouped_expctloss))\n",
        "\n",
        "# Set the width of each bar\n",
        "bar_width = 0.35\n",
        "\n",
        "# Create a bar chart\n",
        "fig, ax = plt.subplots(figsize=(10, 6))\n",
        "ax.bar(x, grouped_expctloss[1], bar_width, label='yes')\n",
        "#ax.bar(x + bar_width, grouped_expctloss[0], bar_width, label='2')\n",
        "\n",
        "# Set the x-axis labels to be the egender categories\n",
        "#ax.set_xticks(x + bar_width/2)\n",
        "ax.set_xticks(x)\n",
        "ax.set_xticklabels(grouped_expctloss.index, rotation=45)\n",
        "\n",
        "ax.set_xlabel('egender')\n",
        "ax.set_ylabel('expctloss')\n",
        "ax.set_title('expctloss by egender')\n",
        "ax.legend(title='expctloss')\n",
        "\n",
        "plt.tight_layout()\n",
        "plt.show()"
      ]
    },
    {
      "cell_type": "markdown",
      "source": [
        "Technical documentation:\n",
        "\n",
        "Description:\n",
        "the relation between the gender and age, sex and expctloss\n",
        "\n",
        "Usage:\n",
        "show how the age affect both of them\n",
        "\n",
        "Collection:\n",
        "we read all data in df1, then remove the duplicates in part1 dataframe, then remove all un needed columns we will not use in this part.\n",
        "\n",
        "Cleaning:\n",
        "we remove the nulls, missing data, and unknows\n",
        "\n",
        "Steps:\n",
        "after reading the data we calculate the mean for ever droup of gender for expctloss\n",
        "\n",
        "Challenges:\n",
        "plot both of them in the same graph to compare\n",
        "for all the demographics\n",
        "Limitations:\n",
        "\n",
        "Assumptions:\n",
        "our null values is unvalid they are very small, so we can ignore"
      ],
      "metadata": {
        "id": "dEisQDUiUyBC"
      }
    },
    {
      "cell_type": "markdown",
      "metadata": {
        "id": "JgDg6rBVL0zc"
      },
      "source": [
        "### 8. The rate of expected employment loss due to COVID-19 for the top 10 states with the highest rate of COVID hospitalization."
      ]
    },
    {
      "cell_type": "code",
      "execution_count": null,
      "metadata": {
        "id": "7nqoNmgvL1C6"
      },
      "outputs": [],
      "source": [
        "#1\n",
        "part1_8_from1 = df_part1[['res_state', 'hosp_yn']].copy()\n",
        "\n",
        "part1_8_from1 = part1_8_from1.replace({'Yes': 1, 'No': 0, 'Unknown': None, 'Missing': None, 'NA': None, 'Other': None})\n",
        "part1_8_from1 = part1_8_from1.dropna()\n",
        "\n",
        "part1_8_from1 = part1_8_from1.groupby(['res_state'])['hosp_yn'].sum().reset_index()\n",
        "part1_8_from1 = part1_8_from1.nlargest(10, 'hosp_yn', keep='first')\n",
        "part1_8_from1 = part1_8_from1.reset_index(drop=True)\n",
        "'''\n",
        "  res_state  hosp_yn\n",
        "0        CA  39973.0\n",
        "1        NY  35419.0\n",
        "2        NJ  30507.0\n",
        "3        OH  24526.0\n",
        "4        TX  23293.0\n",
        "5        FL  20452.0\n",
        "6        IL  19073.0\n",
        "7        PA  16273.0\n",
        "8        MN  13890.0\n",
        "9        AZ  12814.0\n",
        "'''\n",
        "#print(part1_8_from1)\n",
        "\n",
        "#####################################################################\n",
        "part1_8_from1 = part1_8_from1.replace({'AL': 'Alabama', 'AK': 'Alaska', 'AZ': 'Arizona', 'AR': 'Arkansas', 'CA': 'California', 'CO': 'Colorado',\n",
        "                      'CT': 'Connecticut', 'DE': 'Delaware', 'DC': 'District of Columbia', 'FL': 'Florida', 'GA': 'Georgia',\n",
        "                      'HI': 'Hawaii', 'ID': 'Idaho', 'IL': 'Illinois', 'IN': 'Indiana', 'IA': 'Iowa', 'KS': 'Kansas', 'KY': 'Kentucky',\n",
        "                      'LA': 'Louisiana', 'ME': 'Maine', 'MD': 'Maryland', 'MA': 'Massachusetts', 'MI': 'Michigan', 'MN': 'Minnesota',\n",
        "                      'MS': 'Mississippi', 'MO': 'Missouri', 'MT': 'Montana', 'NE': 'Nebraska', 'NV': 'Nevada', 'NH': 'New Hampshire',\n",
        "                      'NJ': 'New Jersey', 'NM': 'New Mexico', 'NY': 'New York', 'NC': 'North Carolina', 'ND': 'North Dakota', 'OH': 'Ohio',\n",
        "                      'OK': 'Oklahoma', 'OR': 'Oregon', 'PA': 'Pennsylvania', 'RI': 'Rhode Island', 'SC': 'South Carolina', 'SD': 'South Dakota',\n",
        "                      'TN': 'Tennessee', 'TX': 'Texas', 'UT': 'Utah', 'VT': 'Vermont', 'VA': 'Virginia', 'WA': 'Washington', 'WV': 'West Virginia',\n",
        "                      'WI': 'Wisconsin', 'WY': 'Wyoming', 'VI': 'Virgin Islands', 'PR': 'Puerto Rico', 'GU': 'Guam'})\n",
        "#print(part1_8_from1)\n",
        "#####################################################################\n",
        "part1_8_from2 = df_part1_puf[['est_st', 'expctloss']].copy()\n",
        "\n",
        "part1_8_from2['expctloss'] = part1_8_from2['expctloss'].replace({1: 'Yes', 2: 'No', -88: None, -99: None})\n",
        "part1_8_from2 = part1_8_from2.replace({'Yes': 1, 'No': 0, 'Unknown': None, 'Missing': None, 'NA': None, 'Other': None})\n",
        "part1_8_from2 = part1_8_from2.dropna()\n",
        "#print(part1_8_from2)\n",
        "#####################################################################\n",
        "part1_8_from2['est_st'] = part1_8_from2['est_st'].replace({1: 'Alabama', 2: 'Alaska', 4: 'Arizona', 5: 'Arkansas', 6: 'California', 8: 'Colorado',\n",
        "                                                          9: 'Connecticut', 10: 'Delaware', 11: 'District of Columbia', 12: 'Florida', 13: 'Georgia',\n",
        "                                                          15: 'Hawaii', 16: 'Idaho', 17: 'Illinois', 18: 'Indiana', 19: 'Iowa', 20: 'Kansas',\n",
        "                                                          21: 'Kentucky', 22: 'Louisiana', 23: 'Maine', 24: 'Maryland', 25: 'Massachusetts',\n",
        "                                                          26: 'Michigan', 27: 'Minnesota', 28: 'Mississippi', 29: 'Missouri', 30: 'Montana',\n",
        "                                                          31: 'Nebraska', 32: 'Nevada', 33: 'New Hampshire', 34: 'New Jersey', 35: 'New Mexico',\n",
        "                                                          36: 'New York', 37: 'North Carolina', 38: 'North Dakota', 39: 'Ohio', 40: 'Oklahoma',\n",
        "                                                          41: 'Oregon', 42: 'Pennsylvania', 44: 'Rhode Island', 45: 'South Carolina', 46: 'South Dakota',\n",
        "                                                          47: 'Tennessee', 48: 'Texas', 49: 'Utah', 50: 'Vermont', 51: 'Virginia', 53: 'Washington',\n",
        "                                                          54: 'West Virginia', 55: 'Wisconsin', 56: 'Wyoming'})\n",
        "\n",
        "#print(part1_8_from2)\n",
        "#####################################################################\n",
        "part1_8 = pd.merge(part1_8_from1[['res_state', 'hosp_yn']], part1_8_from2[['est_st', 'expctloss']], left_on='res_state', right_on='est_st' )\n",
        "#print(part1_8)\n",
        "#####################################################################\n",
        "grouped_expctloss_8 = part1_8.groupby(['res_state'])['expctloss'].value_counts(normalize=True).unstack().fillna(0)\n",
        "\n",
        "#Rearrange\n",
        "grouped_expctloss_8 = grouped_expctloss_8.sort_values(by=grouped_expctloss_8.columns[0], ascending=False)\n",
        "#print(grouped_expctloss_8)\n",
        "#####################################################################\n",
        "import matplotlib.pyplot as plt\n",
        "\n",
        "# Set the x-axis positions for the bars\n",
        "x = np.arange(len(grouped_expctloss_8))\n",
        "\n",
        "# Set the width of each bar\n",
        "bar_width = 0.35\n",
        "\n",
        "# Create a bar chart\n",
        "fig, ax = plt.subplots(figsize=(10, 6))\n",
        "ax.bar(x, grouped_expctloss_8[1], bar_width, label='yes')\n",
        "#ax.bar(x + bar_width, grouped_expctloss_8[0], bar_width, label='2')\n",
        "\n",
        "# Set the x-axis labels to be the kindwork categories\n",
        "#ax.set_xticks(x + bar_width/2)\n",
        "ax.set_xticks(x)\n",
        "\n",
        "# Change the row names\n",
        "#grouped_expctloss_8.index = ['Female', 'Male']\n",
        "ax.set_xticklabels(grouped_expctloss_8.index, rotation=45)\n",
        "\n",
        "ax.set_xlabel('res_state')\n",
        "ax.set_ylabel('expctloss')\n",
        "ax.set_title('expctloss by res_state')\n",
        "ax.legend(title='expctloss')\n",
        "\n",
        "plt.tight_layout()\n",
        "plt.show()"
      ]
    },
    {
      "cell_type": "markdown",
      "source": [
        "Technical documentation:\n",
        "\n",
        "Description:\n",
        "the relation between the states and group expctloss and hospli\n",
        "Usage:\n",
        "show how the state affect both of them\n",
        "Collection:\n",
        "we read all data in df1, then remove the duplicates in part1 dataframe, then remove all un needed columns we will not use in this part.\n",
        "Cleaning:\n",
        "we remove the nulls, missing data, and unknows\n",
        "Steps:\n",
        "after reading the data we calculate the mean for ever droup of state for both hosptli and expctloss\n",
        "Challenges:\n",
        "dealing with the two datasets together and merg between them\n",
        "plot both of them in the same graph to compare\n",
        "Limitations:\n",
        "\n",
        "Assumptions:\n",
        "our null values is unvalid they are very small, so we can ignore"
      ],
      "metadata": {
        "id": "RYREX7MqVJHz"
      }
    },
    {
      "cell_type": "markdown",
      "metadata": {
        "id": "4BsddiuTL1S1"
      },
      "source": [
        "### 9. The relationship between household income and the rate of delayed/ OR unobtained medical treatment (Due to COVID or otherwise)."
      ]
    },
    {
      "cell_type": "code",
      "execution_count": null,
      "metadata": {
        "id": "iFkJbMMyL1ip"
      },
      "outputs": [],
      "source": [
        "import pandas as pd\n",
        "from scipy.stats import chi2_contingency\n",
        "\n",
        "# Assuming part1_9 is your DataFrame with 'symptom' and 'age' columns\n",
        "part1_9 = df_part1_puf[['income', 'delay']].copy()\n",
        "\n",
        "part1_9 = part1_9.replace({1: 'Yes', 2: 'No', -88: None, -99: None})\n",
        "part1_9 = part1_9.replace({'Yes': 1, 'No': 0, 'Unknown': None, 'Missing': None, 'NA': None, 'Other': None})\n",
        "part1_9 = part1_9.dropna()\n",
        "\n",
        "# Create a contingency table\n",
        "contingency_table = pd.crosstab(part1_9['income'], part1_9['delay'])\n",
        "\n",
        "# Perform the chi-square test\n",
        "chi2, p_value, dof, expected = chi2_contingency(contingency_table)\n",
        "\n",
        "# Interpret the results\n",
        "alpha = 0.05  # significance level\n",
        "\n",
        "print(f\"Chi-square statistic: {chi2}\")\n",
        "print(f\"P-value: {p_value}\")\n",
        "print(f\"Degrees of freedom: {dof}\")\n",
        "print(\"Expected frequencies:\")\n",
        "print(expected)\n",
        "\n",
        "if p_value < alpha:\n",
        "    print(\"There is evidence to reject the null hypothesis.\")\n",
        "    print(\"There is a relationship between income and delay.\")\n",
        "else:\n",
        "    print(\"There is no evidence to reject the null hypothesis.\")\n",
        "    print(\"There is no relationship between income and delay.\")"
      ]
    },
    {
      "cell_type": "code",
      "execution_count": null,
      "metadata": {
        "id": "q8xpPL0_OE5T"
      },
      "outputs": [],
      "source": [
        "# Assuming part1_9 is your DataFrame with 'symptom' and 'age' columns\n",
        "part1_9 = df_part1_puf[['income', 'delay']].copy()\n",
        "\n",
        "part1_9['income'] = part1_9['income'].replace({1: 'Less than $25,000',\n",
        "2: '$25,000 - $34,999',\n",
        "3: '$35,000 - $49,999' ,\n",
        "4: '$50,000 - $74,999'  ,\n",
        "5: '$75,000 - $99,999'   ,\n",
        "6: '$100,000 - $149,999'  ,\n",
        "7: '$150,000 - $199,999',\n",
        "8: '$200,000 and above',\n",
        "-99: None,\n",
        "-88: None})\n",
        "part1_9 = part1_9.replace({1: 'Yes', 2: 'No', -88: None, -99: None})\n",
        "part1_9 = part1_9.replace({ 'Unknown': None, 'Missing': None, 'NA': None, 'Other': None}) #'Yes': 1, 'No': 0,\n",
        "part1_9 = part1_9.dropna()\n",
        "\n",
        "fig, ax = plt.subplots(figsize=(15, 6))\n",
        "b = sns.countplot(x = 'income', data = part1_9, hue = 'delay')\n",
        "b.set_title('Distribution of income by delay')\n",
        "plt.show()"
      ]
    },
    {
      "cell_type": "markdown",
      "source": [
        "Technical documentation:\n",
        "\n",
        "Description:\n",
        "the relation between the income and group delay\n",
        "Usage:\n",
        "show how the income affect both of them\n",
        "Collection:\n",
        "we read all data in df1, then remove the duplicates in part1 dataframe, then remove all un needed columns we will not use in this part.\n",
        "Cleaning:\n",
        "we remove the nulls, missing data, and unknows\n",
        "Steps:\n",
        "after reading the data we calculate the mean for ever droup of income for both delay\n",
        "Challenges:\n",
        "relational analysis\n",
        "plot both of them in the same graph to compare\n",
        "Limitations:\n",
        "\n",
        "Assumptions:\n",
        "our null values is unvalid they are very small, so we can ignore"
      ],
      "metadata": {
        "id": "dHxAb3adVaj2"
      }
    },
    {
      "cell_type": "markdown",
      "metadata": {
        "id": "gOb53HCaL1yY"
      },
      "source": [
        "###  10. The relationship between COVID-19 symptom manifestation and age group."
      ]
    },
    {
      "cell_type": "code",
      "execution_count": null,
      "metadata": {
        "id": "k1pL4Y67L2Dy"
      },
      "outputs": [],
      "source": [
        "import pandas as pd\n",
        "from scipy.stats import chi2_contingency\n",
        "\n",
        "# Assuming part1_10 is your DataFrame with 'symptom' and 'age' columns\n",
        "part1_10 = df_part1[['symptom_status', 'age_group']].copy()\n",
        "\n",
        "part1_10 = part1_10.replace({'Unknown': None, 'Missing': None, 'NA': None, 'Other': None})\n",
        "part1_10 = part1_10.dropna()\n",
        "\n",
        "# Create a contingency table\n",
        "contingency_table = pd.crosstab(part1_10['symptom_status'], part1_10['age_group'])\n",
        "\n",
        "# Perform the chi-square test\n",
        "chi2, p_value, dof, expected = chi2_contingency(contingency_table)\n",
        "\n",
        "# Interpret the results\n",
        "alpha = 0.05  # significance level\n",
        "\n",
        "print(f\"Chi-square statistic: {chi2}\")\n",
        "print(f\"P-value: {p_value}\")\n",
        "print(f\"Degrees of freedom: {dof}\")\n",
        "print(\"Expected frequencies:\")\n",
        "print(expected)\n",
        "\n",
        "if p_value < alpha:\n",
        "    print(\"There is evidence to reject the null hypothesis.\")\n",
        "    print(\"There is a relationship between COVID-19 symptom manifestation and age groups.\")\n",
        "else:\n",
        "    print(\"There is no evidence to reject the null hypothesis.\")\n",
        "    print(\"There is no relationship between COVID-19 symptom manifestation and age groups.\")"
      ]
    },
    {
      "cell_type": "code",
      "execution_count": null,
      "metadata": {
        "id": "AGfT4wpeVtvi"
      },
      "outputs": [],
      "source": [
        "# Assuming part1_10 is your DataFrame with 'symptom' and 'age' columns\n",
        "part1_10 = df_part1[['symptom_status', 'age_group']].copy()\n",
        "\n",
        "part1_10 = part1_10.replace({'Unknown': None, 'Missing': None, 'NA': None, 'Other': None})\n",
        "part1_10 = part1_10.dropna()\n",
        "\n",
        "fig, ax = plt.subplots(figsize=(10, 6))\n",
        "b = sns.countplot(x = 'age_group', data = part1_10, hue = 'symptom_status')\n",
        "b.set_title('Distribution of symptom_status by age_group')\n",
        "plt.show()"
      ]
    },
    {
      "cell_type": "markdown",
      "source": [
        "Technical documentation:\n",
        "\n",
        "Description:\n",
        "the relation between the symptom_status and group ages\n",
        "Usage:\n",
        "show how the age affect both of them\n",
        "Collection:\n",
        "we read all data in df1, then remove the duplicates in part1 dataframe, then remove all un needed columns we will not use in this part.\n",
        "Cleaning:\n",
        "we remove the nulls, missing data, and unknows\n",
        "Steps:\n",
        "after reading the data we calculate the mean for ever droup of age for both symptom_status\n",
        "Challenges:\n",
        "plot both of them in the same graph to compare\n",
        "Limitations:\n",
        "\n",
        "Assumptions:\n",
        "our null values is unvalid they are very small, so we can ignore"
      ],
      "metadata": {
        "id": "DqLI8YnuVtl_"
      }
    },
    {
      "cell_type": "markdown",
      "metadata": {
        "id": "hXmQCbrkM1Zi"
      },
      "source": [
        "## PART 2: Answering Questions:\n",
        "\n",
        "---\n",
        "\n"
      ]
    },
    {
      "cell_type": "markdown",
      "metadata": {
        "id": "NN-GE_UlM4Eo"
      },
      "source": [
        "### 2.1 Use the appropriate statistics and plots to answer the following\n",
        "questions:"
      ]
    },
    {
      "cell_type": "markdown",
      "metadata": {
        "id": "_rWjehj7NMDz"
      },
      "source": [
        "#### 1. Are hospitalized patients with underlying medical conditions and/or risk behaviors more likely to die from COVID-19?"
      ]
    },
    {
      "cell_type": "code",
      "execution_count": null,
      "metadata": {
        "id": "jHG7ZjaVNWzk"
      },
      "outputs": [],
      "source": [
        "# Create a subset of the data with relevant columns\n",
        "p2_1_0subset = df1[['hosp_yn', 'underlying_conditions_yn', 'death_yn']]"
      ]
    },
    {
      "cell_type": "code",
      "execution_count": null,
      "metadata": {
        "id": "5IFCH77D2dra"
      },
      "outputs": [],
      "source": [
        "# Replace missing values and convert 'Yes', 'No', 'Unknown' to numerical\n",
        "p2_1_1subset = p2_1_0subset.replace({'Yes': 1, 'No': 0, 'Unknown': None, 'Missing': None, 'NA': None})\n",
        "p2_1_1subset = p2_1_0subset.dropna()"
      ]
    },
    {
      "cell_type": "code",
      "execution_count": null,
      "metadata": {
        "id": "oS5-NHKX2_6Y"
      },
      "outputs": [],
      "source": [
        "print(p2_1_1subset.isnull().sum())"
      ]
    },
    {
      "cell_type": "code",
      "execution_count": null,
      "metadata": {
        "id": "mUp2UNWL5KPs"
      },
      "outputs": [],
      "source": [
        "# Calculate mortality rates for patients with underlying conditions and risk behaviors\n",
        "mortality_rates = p2_1_1subset.groupby(['underlying_conditions_yn', 'death_yn'])['hosp_yn'].count().unstack()\n",
        "mortality_rates['mortality_rate'] = mortality_rates['Yes'] / (mortality_rates['Yes'] + mortality_rates['No'])\n",
        "\n",
        "print(mortality_rates)"
      ]
    },
    {
      "cell_type": "code",
      "execution_count": null,
      "metadata": {
        "id": "15TmGNS86OUh"
      },
      "outputs": [],
      "source": [
        "from scipy.stats import chi2_contingency\n",
        "\n",
        "# Perform chi-squared test to determine if there is a significant difference in mortality rates\n",
        "contingency_table = pd.crosstab(p2_1_1subset['underlying_conditions_yn'], p2_1_1subset['death_yn'])\n",
        "chi2, p_val, _, _ = chi2_contingency(contingency_table)\n",
        "\n",
        "if p_val < 0.05:\n",
        "    print(\"There is a significant difference in mortality rates between the groups.\")\n",
        "else:\n",
        "    print(\"There is no significant difference in mortality rates between the groups.\")"
      ]
    },
    {
      "cell_type": "code",
      "execution_count": null,
      "metadata": {
        "id": "9Te7Xp3P6TDj"
      },
      "outputs": [],
      "source": [
        "import matplotlib.pyplot as plt\n",
        "\n",
        "# Visualize mortality rates\n",
        "mortality_rates['mortality_rate'].plot(kind='bar', color='skyblue')\n",
        "plt.xlabel('Underlying Conditions or Risk Behaviors')\n",
        "plt.ylabel('Mortality Rate')\n",
        "plt.title('Mortality Rates for Hospitalized Patients')\n",
        "plt.xticks([0, 1], ['No', 'Yes'], rotation=0)\n",
        "plt.show()"
      ]
    },
    {
      "cell_type": "markdown",
      "metadata": {
        "id": "lfEeQDEdDWWX"
      },
      "source": [
        "#### comments : Patients with underlying medical conditions have a significantly higher mortality rate compared to those without underlying medical conditions."
      ]
    },
    {
      "cell_type": "markdown",
      "source": [
        "Description:\n",
        "calculate and compare mortality rates for hospitalized patients based on the presence of underlying conditions or risk behaviors. It also includes visualizing the mortality rates using a bar plot.\n",
        "\n",
        "Usage:\n",
        "obtain the mortality rates and perform a chi-squared test to determine if there is a significant difference in mortality rates between groups.\n",
        "\n",
        "Collection:\n",
        "a subset of this DataFrame containing the relevant columns ('hosp_yn', 'underlying_conditions_yn', 'death_yn').\n",
        "\n",
        "Cleaning:\n",
        "No explicit cleaning steps are performed in this code snippet. as we did previusly\n",
        "\n",
        "Steps:\n",
        "Data Subset: A subset containing relevant data (hospitalization status, underlying conditions, and death) is created.\n",
        "Missing Values: The code checks for missing values in the subset.\n",
        "Mortality Rate Calculation: Patients are grouped by underlying conditions and death outcome. Mortality rate is calculated as the proportion of deceased patients within each group.\n",
        "Statistical Test: A chi-squared test is performed to assess if there's a significant difference in mortality rates between groups.\n",
        "Visualization: Mortality rates are visualized using a bar chart.\n",
        "Challenges:\n",
        "\n",
        "Limitations:\n",
        "Assumptions:"
      ],
      "metadata": {
        "id": "LFDXJt6tal0T"
      }
    },
    {
      "cell_type": "markdown",
      "metadata": {
        "id": "kHiBGyvtNbIz"
      },
      "source": [
        "#### 2. Who are the people (the demographic segment) that appear to be most at risk of death due to COVID-19? Who is the least at risk?"
      ]
    },
    {
      "cell_type": "code",
      "execution_count": null,
      "metadata": {
        "id": "l270PrTeNbWl"
      },
      "outputs": [],
      "source": [
        "# faeture selection\n",
        "# sselect the age , sex , race column\n",
        "# Create a subset of the data with relevant columns\n",
        "p2_2_0subset = df1[['sex', 'age_group', 'race','death_yn']]\n",
        "# Replace missing values and convert 'Yes', 'No', 'Unknown' to numerical\n",
        "p2_2_1subset = p2_1_0subset.replace({'Yes': 1, 'No': 0, 'Unknown': None, 'Missing': None, 'NA': None})\n",
        "# Drop rows with missing values in the 'death_yn' column\n",
        "p2_2_1subset = p2_2_1subset.dropna(subset=['death_yn'])"
      ]
    },
    {
      "cell_type": "code",
      "execution_count": null,
      "metadata": {
        "id": "E6_BT8WhqoRx"
      },
      "outputs": [],
      "source": [
        "print(df1.columns)\n"
      ]
    },
    {
      "cell_type": "code",
      "execution_count": null,
      "metadata": {
        "id": "GoWcut2SpuwS"
      },
      "outputs": [],
      "source": [
        "# Create a subset of the data with relevant columns\n",
        "p2_2_0subset = df1[['sex', 'age_group', 'race', 'death_yn']]\n",
        "p2_2_1subset = p2_2_0subset.replace({'Yes': 1, 'No': 0, 'Unknown': None, 'Missing': None, 'NA': None})\n",
        "p2_2_1subset = p2_2_1subset.dropna()\n",
        "\n",
        "# Ensure 'death_yn' is numeric\n",
        "p2_2_1subset['death_yn'] = p2_2_1subset['death_yn'].astype(int)\n",
        "\n",
        "# Group by age group, sex, and race, and calculate the mean death rate\n",
        "death_rate_by_demo = p2_2_1subset.groupby(['age_group', 'sex', 'race']).mean()['death_yn'].reset_index()\n",
        "\n",
        "# Rename columns for clarity\n",
        "death_rate_by_demo.columns = ['Age Group', 'Sex', 'Race', 'Death Rate']\n",
        "\n",
        "# Sort values for better visualization\n",
        "death_rate_by_demo = death_rate_by_demo.sort_values(by='Death Rate', ascending=False)\n",
        "\n",
        "print(death_rate_by_demo)\n"
      ]
    },
    {
      "cell_type": "code",
      "execution_count": null,
      "metadata": {
        "id": "ET-jZJhCr1Iu"
      },
      "outputs": [],
      "source": [
        "# Set the size of the plot\n",
        "plt.figure(figsize=(16, 10))\n",
        "\n",
        "# Create a bar plot with age group, sex, and race\n",
        "sns.catplot(\n",
        "    x='Age Group',\n",
        "    y='Death Rate',\n",
        "    hue='Sex',\n",
        "    col='Race',\n",
        "    data=death_rate_by_demo,\n",
        "    kind='bar',\n",
        "    height=5,\n",
        "    aspect=1.2\n",
        ")\n",
        "\n",
        "# Adjust the plot\n",
        "plt.subplots_adjust(top=0.9)\n",
        "plt.suptitle('COVID-19 Death Rate by Demographics')\n",
        "plt.show()\n"
      ]
    },
    {
      "cell_type": "markdown",
      "metadata": {
        "id": "tK-F_KK3v6Pz"
      },
      "source": [
        "**Another check**\n",
        "\n",
        "---\n",
        "\n",
        "\n",
        "from the previous graph there is a native that has 0 deaths ? is it right ?!\n",
        "in the folowwing code we will check the number of deaths in the this race to make sure that our visulization is true"
      ]
    },
    {
      "cell_type": "code",
      "execution_count": null,
      "metadata": {
        "id": "1zRZlUMatft1"
      },
      "outputs": [],
      "source": [
        "# Filter the data for Native Hawaiian/Other Pacific Islander\n",
        "native_hawaiian_data = df1[df1['race'] == 'Native Hawaiian/Other Pacific Islander']\n",
        "\n",
        "# Count the total number of cases and the number of deaths\n",
        "total_cases_native_hawaiian = native_hawaiian_data.shape[0]\n",
        "deaths_native_hawaiian = native_hawaiian_data[native_hawaiian_data['death_yn'] == 'Yes'].shape[0]\n",
        "\n",
        "# Print the counts\n",
        "print(f\"Total Native Hawaiian/Other Pacific Islander cases: {total_cases_native_hawaiian}\")\n",
        "print(f\"Total Native Hawaiian/Other Pacific Islander deaths: {deaths_native_hawaiian}\")\n",
        "\n",
        "# Calculate the death rate\n",
        "death_rate_native_hawaiian = (deaths_native_hawaiian / total_cases_native_hawaiian) * 100 if total_cases_native_hawaiian > 0 else 0\n",
        "print(f\"Death rate for Native Hawaiian/Other Pacific Islander: {death_rate_native_hawaiian:.2f}%\")\n"
      ]
    },
    {
      "cell_type": "markdown",
      "metadata": {
        "id": "0FSar85p03dl"
      },
      "source": [
        "**Interpretation of Results**\n",
        "\n",
        "**Most at Risk**\n",
        "- Older age groups (65 years and older)\n",
        "\n",
        "  - Men appear to be at highest risk, especially among Asians and American Indians/Alaska Natives, with increased mortality 30.18% and 22.34% respectively.\n",
        "  - Women also have significant mortality rates, with Asian women at 20.96% and black women at 9.67%.\n",
        "  \n",
        "- Men 50 to 64 years old\n",
        "\n",
        "   - American Indian/Alaska Native men have a mortality rate of 2.66%.\n",
        "   - Asian and black men in this age group have a mortality rate of about 2%.\n",
        "\n",
        "\n",
        "**Least at Risk**\n",
        "- Younger age groups (0-17 years)\n",
        "\n",
        "    - Across all races and genders, the mortality rate was 0%, indicating a very low risk.\n",
        "\n",
        "- Older women 18 and older to 49\n",
        "\n",
        "    - generally have low mortality rates, highest in black women at 0.063%.\n",
        "\n",
        "- Native Hawaiians/Other Pacific Islanders in all age groups\n",
        "     - Men and women in this racial group have a 0% mortality rate across age groups."
      ]
    },
    {
      "cell_type": "markdown",
      "source": [
        "Description:\n",
        "analyze the COVID-19 death rate based on demographic factors such as age group, sex, and race. It creates a subset of the data, cleans and preprocesses it, calculates the mean death rate for each demographic group, and visualizes the results using a bar plot.\n",
        "\n",
        "Usage:\n",
        "obtain the death rates by demographic groups and visualize them as a bar plot.\n",
        "\n",
        "Collection:\n",
        "the data has already been collected and stored in a DataFrame called df1. then selects the columns 'sex', 'age_group', 'race', and 'death_yn' from this DataFrame to create a subset.\n",
        "\n",
        "Cleaning:\n",
        "cleaning steps to replace missing values and convert categorical values to numerical representation. also drops rows with missing values in the 'death_yn' column.\n",
        "\n",
        "Steps:\n",
        "Prepares data for analysis of death rate by demographics:\n",
        "\n",
        "Subset Creation: Creates a data subset containing columns for sex, age group, race, and death indicator ('death_yn').\n",
        "Data Cleaning:\n",
        "Replaces categorical values in the subset with numerical equivalents.\n",
        "Drops rows with missing values in the death indicator column.\n",
        "Converts the death indicator values to integers for numerical calculations.\n",
        "Death Rate Calculation:\n",
        "Groups the data by age group, sex, and race.\n",
        "Calculates the average death rate (mean) for each group.\n",
        "Data Formatting:\n",
        "Renames columns in the death rate DataFrame for clarity.\n",
        "Sorts the DataFrame by death rate (highest to lowest).\n",
        "Visualizes death rate:\n",
        "\n",
        "Imports libraries for data visualization (matplotlib and seaborn).\n",
        "Creates a bar chart using seaborn's catplot function.\n",
        "The chart displays death rate by age group, sex, and race, with separate bars for each sex within each racial group.\n",
        "Customizes the plot for readability with titles and labels.\n",
        "Displays the final bar chart.\n",
        "Challenges:\n",
        "Limitations:\n",
        "Assumptions:\n"
      ],
      "metadata": {
        "id": "C_RtdbNmds_E"
      }
    },
    {
      "cell_type": "markdown",
      "metadata": {
        "id": "hWVYnbZXNbmB"
      },
      "source": [
        "#### 3. What percent of patients who have reported exposure to any kind of travel / or congregation within the 14 days prior to illness onset end up hospitalized? What percent of those go on to be hospitalized?"
      ]
    },
    {
      "cell_type": "code",
      "execution_count": null,
      "metadata": {
        "id": "aRAr2ytdNb0R"
      },
      "outputs": [],
      "source": [
        "# Filter the data to include only patients who reported exposure\n",
        "exposed_patients = df1[df1['exposure_yn'] == 'Yes']\n",
        "\n",
        "# Total number of patients who reported exposure\n",
        "total_exposed = exposed_patients.shape[0]\n",
        "\n",
        "# Number of exposed patients who were hospitalized\n",
        "hospitalized_exposed = exposed_patients[exposed_patients['hosp_yn'] == 'Yes'].shape[0]\n",
        "\n",
        "# Calculate the percentage of exposed patients who were hospitalized\n",
        "percentage_hospitalized_exposed = (hospitalized_exposed / total_exposed) * 100 if total_exposed > 0 else 0\n",
        "\n",
        "# Print the results\n",
        "print(f\"Total patients who reported exposure: {total_exposed}\")\n",
        "print(f\"Number of exposed patients who were hospitalized: {hospitalized_exposed}\")\n",
        "print(f\"Percentage of exposed patients who were hospitalized: {percentage_hospitalized_exposed:.2f}%\")\n"
      ]
    },
    {
      "cell_type": "code",
      "execution_count": null,
      "metadata": {
        "id": "dbWW-gg7UbHs"
      },
      "outputs": [],
      "source": [
        "# Data for visualization\n",
        "categories = ['Exposed, Not Hospitalized', 'Exposed, Hospitalized']\n",
        "values = [total_exposed - hospitalized_exposed, hospitalized_exposed]\n",
        "\n",
        "# Plot\n",
        "plt.figure(figsize=(10, 6))\n",
        "plt.bar(categories, values, color=['lightblue', 'lightcoral'])\n",
        "plt.xlabel('Category')\n",
        "plt.ylabel('Number of Patients')\n",
        "plt.title('Number of Patients Who Reported Exposure and Hospitalization Status')\n",
        "plt.show()\n"
      ]
    },
    {
      "cell_type": "markdown",
      "metadata": {
        "id": "PuoXB9PhWrHg"
      },
      "source": [
        "**Interpretation**\n",
        "\n",
        "---\n",
        "The analysis shows that among a million patients who mentioned travel or gatherings before falling ill only **3.90%** (38,965 patients) needed hospital care. This suggests that most of those who mentioned exposure did not need to go to the hospital due, to factors, like the seriousness of the exposure the patients health condition or timely interventions.\n"
      ]
    },
    {
      "cell_type": "markdown",
      "source": [
        "Technical documentation:\n",
        "\n",
        "Description:\n",
        "filters the data to include only patients who reported exposure, calculates the number and percentage of exposed patients who were hospitalized, and visualizes the results using a bar plot. شىي provides insights into the hospitalization status of patients who reported exposure.\n",
        "\n",
        "Usage:\n",
        "filter the data, calculate the number and percentage of hospitalized patients among those who reported exposure, and visualize the results as a bar plot.\n",
        "\n",
        "Collection:\n",
        "filters the data based on the column 'exposure_yn' to include only patients who reported exposure.\n",
        "\n",
        "Cleaning:\n",
        "done before\n",
        "Steps:\n",
        "Filtering Exposed Patients: Filters the data to include only patients who reported exposure (based on 'exposure_yn' column).\n",
        "Calculating Hospitalization Rates:\n",
        "Counts the total number of patients who reported exposure.\n",
        "Counts the number of exposed patients who were hospitalized.\n",
        "Calculates the hospitalization rate as a percentage (considering division by zero).\n",
        "Printing Results: Prints the total exposed patients, hospitalized exposed patients, and hospitalization rate.\n",
        "Data Preparation for Visualization:\n",
        "Defines categories for visualization (\"Exposed, Not Hospitalized\" and \"Exposed, Hospitalized\").\n",
        "Calculates corresponding values for each category based on the calculated counts.\n",
        "Visualization:\n",
        "Creates a bar chart using matplotlib's plt.bar().\n",
        "Visualizes the number of exposed patients in each category (hospitalized vs non-hospitalized).\n",
        "Customizes the plot with labels, title, and appropriate size.\n",
        "Displays the final bar chart.\n",
        "Challenges:\n",
        "Limitations:\n",
        "Assumptions:\n"
      ],
      "metadata": {
        "id": "4fd02DFCdJXS"
      }
    },
    {
      "cell_type": "markdown",
      "metadata": {
        "id": "Te6qkSDKNcDR"
      },
      "source": [
        "#### 4. Are Asymptomatic COVID patients less likely to be hospitalized? Are they less likely to die from their illness?"
      ]
    },
    {
      "cell_type": "code",
      "execution_count": null,
      "metadata": {
        "id": "yeU_rOZ0NcSj"
      },
      "outputs": [],
      "source": [
        "# Create a subset of the data with relevant columns\n",
        "p2_4_subset = df1[['symptom_status', 'hosp_yn', 'death_yn']]\n",
        "# Replace missing values and convert 'Yes', 'No', 'Unknown' to numerical\n",
        "p2_4_subset = p2_4_subset.replace({'Yes': 1, 'No': 0, 'Unknown': None, 'Missing': None, 'NA': None})\n",
        "p2_4_subset = p2_4_subset.dropna()\n",
        "\n",
        "# Calculate hospitalization and death rates for asymptomatic and symptomatic patients\n",
        "hospitalization_rates = p2_4_subset.groupby(['symptom_status', 'hosp_yn']).size().unstack(fill_value=0)\n",
        "hospitalization_rates['hospitalization_rate'] = hospitalization_rates[1] / (hospitalization_rates[0] + hospitalization_rates[1])\n",
        "\n",
        "mortality_rates = p2_4_subset.groupby(['symptom_status', 'death_yn']).size().unstack(fill_value=0)\n",
        "mortality_rates['mortality_rate'] = mortality_rates[1] / (mortality_rates[0] + mortality_rates[1])\n",
        "\n",
        "print(\"Hospitalization Rates:\\n\", hospitalization_rates)\n",
        "print(\"Mortality Rates:\\n\", mortality_rates)\n",
        "\n",
        "# Visualization\n",
        "import matplotlib.pyplot as plt\n",
        "\n",
        "fig, axs = plt.subplots(1, 2, figsize=(20, 10))\n",
        "\n",
        "# Hospitalization rates\n",
        "hospitalization_rates['hospitalization_rate'].plot(kind='bar', ax=axs[0], color='skyblue')\n",
        "axs[0].set_xlabel('Symptom Status')\n",
        "axs[0].set_ylabel('Hospitalization Rate')\n",
        "axs[0].set_title('Hospitalization Rates for Asymptomatic vs. Symptomatic Patients')\n",
        "axs[0].set_xticklabels(['Asymptomatic', 'Symptomatic'], rotation=0)\n",
        "\n",
        "# Mortality rates\n",
        "mortality_rates['mortality_rate'].plot(kind='bar', ax=axs[1], color='salmon')\n",
        "axs[1].set_xlabel('Symptom Status')\n",
        "axs[1].set_ylabel('Mortality Rate')\n",
        "axs[1].set_title('Mortality Rates for Asymptomatic vs. Symptomatic Patients')\n",
        "axs[1].set_xticklabels(['Asymptomatic', 'Symptomatic'], rotation=0)\n",
        "\n",
        "plt.show()\n"
      ]
    },
    {
      "cell_type": "markdown",
      "metadata": {
        "id": "TePNDNQ-2juW"
      },
      "source": [
        "**Interpretation**\n",
        "\n",
        "---\n",
        "\n",
        "- Hospitalization Rates:\n",
        "\n",
        "    - Asymptomatic patients had a hospitalization rate of 3.42%, while symptomatic patients had a higher hospitalization rate of 7.06%.\n",
        "    \n",
        "    - This suggests that asymptomatic COVID patients are less likely to be hospitalized compared to symptomatic patients.\n",
        "- Mortality Rates:\n",
        "    - Asymptomatic individuals had a mortality rate of 0.94% while symptomatic patients experienced a mortality rate of 1.31%.\n",
        "    - This suggests that asymptomatic COVID patients are less likely to succumb to the illness compared to those who exhibit symptoms."
      ]
    },
    {
      "cell_type": "markdown",
      "source": [
        "Analyzes hospitalization and mortality rates by symptom status:\n",
        "\n",
        "Data Preparation:\n",
        "Creates a subset from the original data, focusing on symptom status, hospitalization status, and death indicator.\n",
        "Cleans the data by replacing categorical values with numerical equivalents and dropping rows with missing values.\n",
        "Rate Calculations:\n",
        "Calculates hospitalization rates by grouping data by symptom status and hospitalization status, then calculates the ratio of hospitalized patients to the total for each symptom group (avoiding division by zero).\n",
        "Similarly calculates mortality rates using the death indicator column.\n",
        "Data Printing: Prints the calculated hospitalization and mortality rates DataFrames.\n",
        "Visualization:\n",
        "Creates a figure with two subplots.\n",
        "In the first subplot, visualizes hospitalization rates as a bar chart with symptom status on the x-axis and rate on the y-axis. Adds labels and titles for clarity.\n",
        "In the second subplot, visualizes mortality rates similarly using a bar chart with symptom status on the x-axis and rate on the y-axis.\n",
        "Displays the final figure with both subplots."
      ],
      "metadata": {
        "id": "bxAp6VAze69f"
      }
    },
    {
      "cell_type": "markdown",
      "metadata": {
        "id": "OwFIOrxFNci1"
      },
      "source": [
        "#### 5. Which state is associated with the highest percentage of Economic Impact (stimulus) payments among survey respondents?"
      ]
    },
    {
      "cell_type": "code",
      "execution_count": null,
      "metadata": {
        "id": "mc-d3eXfNcyA"
      },
      "outputs": [],
      "source": [
        "print(df2.columns)"
      ]
    },
    {
      "cell_type": "code",
      "execution_count": null,
      "metadata": {
        "id": "EuMHbawLFLUu"
      },
      "outputs": [],
      "source": [
        "df2"
      ]
    },
    {
      "cell_type": "code",
      "execution_count": null,
      "metadata": {
        "colab": {
          "base_uri": "https://localhost:8080/",
          "height": 660
        },
        "id": "4nggM0J0Ht8v",
        "outputId": "78944873-b050-40f4-8546-c36b8a3bebeb"
      },
      "outputs": [
        {
          "output_type": "stream",
          "name": "stdout",
          "text": [
            "The state with the highest percentage of Economic Impact Payments is 54 with 89.26%.\n"
          ]
        },
        {
          "output_type": "display_data",
          "data": {
            "text/plain": [
              "<Figure size 1500x700 with 1 Axes>"
            ],
            "image/png": "[encoded data removed]"
          },
          "metadata": {}
        }
      ],
      "source": [
        "# Filter relevant columns\n",
        "columns_of_interest = ['est_st', 'eip']\n",
        "df_relevant = df2_part1[columns_of_interest]\n",
        "\n",
        "# Clean the data: Handle missing values and filter meaningful EIP values\n",
        "df_relevant = df_relevant[df_relevant['eip'].isin([1, 2, 3, 4])]\n",
        "\n",
        "# Create a new column to indicate whether EIP was received (1, 2, 3) or not (4)\n",
        "df_relevant['EIP_received'] = df_relevant['eip'].apply(lambda x: 1 if x in [1, 2, 3] else 0)\n",
        "\n",
        "# Calculate the percentage of EIP recipients per state\n",
        "state_eip_percentage = df_relevant.groupby('est_st')['EIP_received'].mean() * 100\n",
        "\n",
        "# Identify the state with the highest percentage\n",
        "highest_eip_state = state_eip_percentage.idxmax()\n",
        "highest_eip_percentage = state_eip_percentage.max()\n",
        "\n",
        "# Print the result\n",
        "print(f\"The state with the highest percentage of Economic Impact Payments is {highest_eip_state} with {highest_eip_percentage:.2f}%.\")\n",
        "\n",
        "# Create a bar chart\n",
        "state_eip_percentage.sort_values(ascending=False).plot(kind='bar', figsize=(15, 7), color='skyblue')\n",
        "plt.title('Percentage of Economic Impact Payments by State')\n",
        "plt.xlabel('State')\n",
        "plt.ylabel('Percentage of EIP Recipients')\n",
        "plt.show()\n"
      ]
    },
    {
      "cell_type": "markdown",
      "source": [
        "Comments:\n",
        "An analysis was conducted to examine the distribution of Economic Impact Payments (stimulus checks) across different states. The data indicated that residents in state 54 (abbreviation) had the highest percentage receiving these payments. A corresponding bar chart (not shown) visually depicts this distribution for all states, allowing for easy comparison."
      ],
      "metadata": {
        "id": "rVMyIBOheoj7"
      }
    },
    {
      "cell_type": "markdown",
      "source": [
        "Technical documentation:\n",
        "\n",
        "Description:\n",
        "filters the relevant columns from a DataFrame (df2_part1), cleans and preprocesses the data, calculates the percentage of Economic Impact Payment (EIP) recipients per state, identifies the state with the highest percentage of EIP recipients, and visualizes the results using a bar chart. It provides insights into the distribution of EIP recipients across different states.\n",
        "\n",
        "Usage:\n",
        "filter the relevant columns, clean and preprocess the data, calculate the percentage of EIP recipients per state, identify the state with the highest percentage, and visualize the results as a bar chart.\n",
        "\n",
        "Collection:\n",
        "selects the columns 'est_st' (state abbreviation) and 'eip' (Economic Impact Payment) from df2_part1.\n",
        "\n",
        "Cleaning:\n",
        "filters the data to include only meaningful EIP values (1, 2, 3) and handles missing values by dropping rows where the 'eip' column does not contain these values.\n",
        "\n",
        "Steps:\n",
        "Analyzes EIP recipients by state:\n",
        "\n",
        "Data Selection and Cleaning:\n",
        "Selects relevant columns (state and EIP value) from the data.\n",
        "Filters for rows with valid EIP values (1, 2, or 3).\n",
        "Creating a New Indicator:\n",
        "Creates a new column to indicate whether EIP was received (1) or not (0) based on the original EIP value.\n",
        "Calculating Rates:\n",
        "Groups the data by state and calculates the average percentage of individuals who received EIP within each state.\n",
        "Identifying Highest Recipient State:\n",
        "Finds the state with the highest percentage of EIP recipients based on the calculated percentages.\n",
        "Printing Results:\n",
        "Prints the state with the highest percentage and the corresponding percentage of EIP recipients.\n",
        "Visualization:\n",
        "Creates a bar chart showing the percentage of EIP recipients for each state.\n",
        "Customizes the chart with labels, title, and colors for better readability.\n",
        "Displays the final bar chart."
      ],
      "metadata": {
        "id": "2gi0jKkSf7z7"
      }
    },
    {
      "cell_type": "markdown",
      "metadata": {
        "id": "oiPk4y9sNdBx"
      },
      "source": [
        "### 2.2 Come up with 5 more bivariate/multivariate analysis questions and similarly answer each with appropriate visuals and commentary."
      ]
    },
    {
      "cell_type": "markdown",
      "metadata": {
        "id": "FMFgLPdqOSAH"
      },
      "source": [
        "1."
      ]
    },
    {
      "cell_type": "code",
      "execution_count": null,
      "metadata": {
        "id": "IGofIvLCNdPt"
      },
      "outputs": [],
      "source": [
        "print(df_part1.columns)"
      ]
    },
    {
      "cell_type": "markdown",
      "metadata": {
        "id": "dqIGWBgbyjSY"
      },
      "source": [
        "Question 1: How does the rate of COVID-related hospitalization vary across different age groups and states?"
      ]
    },
    {
      "cell_type": "code",
      "execution_count": null,
      "metadata": {
        "id": "yeW1zSaRyiQJ"
      },
      "outputs": [],
      "source": [
        "import matplotlib.pyplot as plt\n",
        "import seaborn as sns\n",
        "# Create a subset of the data with relevant columns\n",
        "p2_2_2_1subset = df_part1[['res_state', 'age_group','hosp_yn']]\n",
        "p2_2_2_2subset = p2_2_2_1subset.replace({'Yes': 1, 'No': 0, 'Unknown': None, 'Missing': None, 'NA': None})\n",
        "p2_2_2_2subset = p2_2_2_2subset.dropna()\n",
        "# Calculate hospitalization rate for each age group and state\n",
        "hospitalization_rates = p2_2_2_2subset.groupby(['age_group', 'res_state'])['hosp_yn'].mean().reset_index()\n",
        "\n",
        "# Create a bar plot to visualize the hospitalization rates\n",
        "plt.figure(figsize=(12, 8))\n",
        "sns.barplot(data=hospitalization_rates, x='res_state', y='hosp_yn', hue='age_group')\n",
        "plt.title('COVID-19 Hospitalization Rates across Age Groups and States')\n",
        "plt.xlabel('State')\n",
        "plt.ylabel('Hospitalization Rate')\n",
        "plt.xticks(rotation=45)\n",
        "plt.legend(title='Age Group')\n",
        "plt.show()"
      ]
    },
    {
      "cell_type": "markdown",
      "metadata": {
        "id": "gL5ofugK13b3"
      },
      "source": [
        "in this bar plot :  we did the rate of COVID-related hospitalization vary across different age groups and states , each color represent and age catagory and the for each state we introduce the hospitalization rate for each age_group  "
      ]
    },
    {
      "cell_type": "markdown",
      "metadata": {
        "id": "rINr1xgF3F5y"
      },
      "source": [
        "**Interpretation**\n",
        "\n",
        "---\n",
        "- State ND has the highest hospitalization rates for rhe all age groups :  \n",
        "    - +65 years\n",
        "    - 0-17 years\n",
        "    - 50-64 years\n",
        "    - 18 -49 years\n",
        "\n",
        "\n",
        "-   states HI, WV , RI has 0 hospitalization rates\n"
      ]
    },
    {
      "cell_type": "markdown",
      "metadata": {
        "id": "HFPWXsapOYgL"
      },
      "source": [
        "2. What are the most common risk factors associated with COVID-19-related hospitalizations, and how do these factors vary across different age groups and genders?"
      ]
    },
    {
      "cell_type": "code",
      "execution_count": null,
      "metadata": {
        "id": "6ktRFIo5H5On"
      },
      "outputs": [],
      "source": [
        "# Extract columns related to age group, sex, underlying medical conditions, and hospitalization status\n",
        "risk_factors_data = df_part1[['age_group', 'sex', 'underlying_conditions_yn', 'hosp_yn']]\n",
        "\n",
        "# Step 2: Data Cleaning\n",
        "# Drop rows with missing or unknown values in relevant columns\n",
        "risk_factors_data = risk_factors_data.dropna(subset=['age_group', 'sex', 'underlying_conditions_yn', 'hosp_yn'])\n",
        "\n",
        "# Step 3: Data Analysis\n",
        "# Calculate the prevalence of underlying medical conditions among hospitalized COVID-19 patients\n",
        "risk_factors_analysis = risk_factors_data[risk_factors_data['hosp_yn'] == 'Yes']['underlying_conditions_yn'].value_counts(normalize=True)\n",
        "\n",
        "# Group the data by age group and sex to analyze risk factors distribution\n",
        "risk_factors_distribution = risk_factors_data.groupby(['age_group', 'sex'])['underlying_conditions_yn'].value_counts(normalize=True).unstack().fillna(0)\n",
        "\n",
        "# Step 4: Visualization\n",
        "# Visualization 1: Prevalence of underlying medical conditions among hospitalized COVID-19 patients\n",
        "plt.figure(figsize=(10, 6))\n",
        "risk_factors_analysis.plot(kind='bar', color='skyblue')\n",
        "plt.title('Prevalence of Underlying Medical Conditions among Hospitalized COVID-19 Patients')\n",
        "plt.xlabel('Underlying Medical Condition')\n",
        "plt.ylabel('Prevalence')\n",
        "plt.xticks(rotation=45, ha='right')\n",
        "plt.tight_layout()\n",
        "plt.show()\n",
        "\n",
        "# Visualization 2: Distribution of risk factors by age group and sex\n",
        "plt.figure(figsize=(12, 8))\n",
        "sns.heatmap(risk_factors_distribution, cmap='viridis', annot=True, fmt=\".2f\")\n",
        "plt.title('Distribution of Risk Factors by Age Group and Sex among COVID-19 Patients')\n",
        "plt.xlabel('Underlying Medical Condition')\n",
        "plt.ylabel('Demographic')\n",
        "plt.tight_layout()\n",
        "plt.show()\n"
      ]
    },
    {
      "cell_type": "markdown",
      "metadata": {
        "id": "6BeUFgK1w82U"
      },
      "source": [
        "**Interpretation**\n",
        "\n",
        "\n",
        "---\n",
        "\n",
        "\n",
        "there is notable variability in ICU admission rates based on symptom status\n",
        "\n"
      ]
    },
    {
      "cell_type": "code",
      "execution_count": null,
      "metadata": {
        "id": "bDLIdvZevlZf"
      },
      "outputs": [],
      "source": []
    },
    {
      "cell_type": "markdown",
      "metadata": {
        "id": "3shWtvfIviX-"
      },
      "source": [
        "**Interpretation**\n",
        "\n",
        "---\n",
        "\n"
      ]
    },
    {
      "cell_type": "markdown",
      "metadata": {
        "id": "F8AOi9-wOZFj"
      },
      "source": [
        "3.Are COVID-19 patients with underlying medical conditions more likely to be admitted to the ICU compared to those without underlying conditions ?"
      ]
    },
    {
      "cell_type": "code",
      "execution_count": null,
      "metadata": {
        "id": "OqTSyF5h1on_"
      },
      "outputs": [],
      "source": [
        "# Subset of the DataFrame containing only the relevant columns\n",
        "subset_df = df_part1[['icu_yn', 'underlying_conditions_yn']]\n",
        "\n",
        "# Filter out rows where 'icu_yn' is 'Unknown' or 'Missing'\n",
        "filtered_df = subset_df[subset_df['icu_yn'].isin(['Yes', 'No'])]\n",
        "\n",
        "# Filter dataset to include only COVID-19 patients admitted to the ICU\n",
        "icu_admitted = filtered_df[filtered_df['icu_yn'] == 'Yes']\n",
        "\n",
        "# Calculate percentage of ICU-admitted patients with underlying medical conditions\n",
        "icu_with_conditions_percentage = (icu_admitted['underlying_conditions_yn'].value_counts(normalize=True) * 100).get('Yes', 0)\n",
        "\n",
        "# Filter dataset to include only COVID-19 patients not admitted to the ICU\n",
        "non_icu_admitted = filtered_df[filtered_df['icu_yn'] == 'No']\n",
        "\n",
        "# Calculate percentage of non-ICU-admitted patients with underlying medical conditions\n",
        "non_icu_with_conditions_percentage = (non_icu_admitted['underlying_conditions_yn'].value_counts(normalize=True) * 100).get('Yes', 0)\n",
        "\n",
        "# Data for visualization\n",
        "categories = ['ICU Admitted', 'Non-ICU Admitted']\n",
        "percentages = [icu_with_conditions_percentage, non_icu_with_conditions_percentage]\n",
        "\n",
        "# Create bar chart\n",
        "plt.figure(figsize=(15, 8))\n",
        "plt.bar(categories, percentages, color=['red', 'green'] , width=0.3)\n",
        "plt.xlabel('Patient Group')\n",
        "plt.ylabel('Percentage with Underlying Conditions')\n",
        "plt.title('Percentage of Patients with Underlying Conditions by ICU Admission Status')\n",
        "plt.ylim(0, 100)  # Set the y-axis range from 0 to 100\n",
        "plt.grid(axis='y')\n",
        "# Print results\n",
        "print(\"Percentage of ICU-admitted patients with underlying conditions:\", icu_with_conditions_percentage)\n",
        "print(\"Percentage of non-ICU-admitted patients with underlying conditions:\", non_icu_with_conditions_percentage)\n",
        "# Annotate bars with percentage values\n",
        "for i, v in enumerate(percentages):\n",
        "    plt.text(i, v + 2, f'{v:.2f}%', ha='center', fontweight='bold')\n",
        "\n",
        "plt.show()\n",
        "\n"
      ]
    },
    {
      "cell_type": "markdown",
      "metadata": {
        "id": "wUuVXa7DY41e"
      },
      "source": [
        "**Interpretation**\n",
        "\n",
        "\n",
        "---\n",
        "\n",
        "Percentage of ICU-admitted patients with underlying conditions: 99.6\n",
        "Percentage of non-ICU-admitted patients with underlying conditions: 94.5\n",
        "\n",
        "- High Risk for ICU Patients:\n",
        "\n",
        "   - Nearly all ICU patients had underlying conditions, indicating a strong link to severe COVID-19.\n",
        "- Significant Risk for Non-ICU Patients:\n",
        "\n",
        "  - A substantial portion of non-ICU patients also had underlying conditions, though less severe."
      ]
    },
    {
      "cell_type": "markdown",
      "metadata": {
        "id": "swRNM-asOZj2"
      },
      "source": [
        "4.Do asymptomatic COVID-19 patients have lower rates of hospitalization compared to symptomatic patients? How does this differ based on demographic factors such as age and sex?"
      ]
    },
    {
      "cell_type": "code",
      "execution_count": null,
      "metadata": {
        "id": "IBYPslOZgH12"
      },
      "outputs": [],
      "source": [
        "# Subset the DataFrame containing relevant columns for this analysis\n",
        "subset_df_analysis = df_part1[['symptom_status', 'hosp_yn', 'age_group', 'sex']]\n",
        "\n",
        "# Filter out rows where any relevant column is 'Unknown' or 'Missing'\n",
        "filtered_df = subset_df_analysis[\n",
        "    subset_df_analysis.apply(lambda x: x.isin(['Unknown', 'Missing']).sum(), axis=1) == 0\n",
        "]\n",
        "\n",
        "# Separate asymptomatic and symptomatic patients\n",
        "asymptomatic_patients = filtered_df[filtered_df['symptom_status'] == 'Asymptomatic']\n",
        "symptomatic_patients = filtered_df[filtered_df['symptom_status'] == 'Symptomatic']\n",
        "\n",
        "# Calculate hospitalization rate for asymptomatic patients\n",
        "asymptomatic_hosp_rate = (asymptomatic_patients['hosp_yn'].value_counts(normalize=True) * 100).get('Yes', 0)\n",
        "\n",
        "# Calculate hospitalization rate for symptomatic patients\n",
        "symptomatic_hosp_rate = (symptomatic_patients['hosp_yn'].value_counts(normalize=True) * 100).get('Yes', 0)\n",
        "\n",
        "# Print results\n",
        "print(\"Hospitalization rate for asymptomatic patients:\", asymptomatic_hosp_rate)\n",
        "print(\"Hospitalization rate for symptomatic patients:\", symptomatic_hosp_rate)\n",
        "\n",
        "# Group by age group and sex, then calculate hospitalization rates for asymptomatic patients\n",
        "asymptomatic_hosp_by_age_sex = asymptomatic_patients.groupby(['age_group', 'sex'])['hosp_yn'].value_counts(normalize=True).unstack().fillna(0) * 100\n",
        "\n",
        "# Group by age group and sex, then calculate hospitalization rates for symptomatic patients\n",
        "symptomatic_hosp_by_age_sex = symptomatic_patients.groupby(['age_group', 'sex'])['hosp_yn'].value_counts(normalize=True).unstack().fillna(0) * 100\n",
        "\n",
        "# Print results\n",
        "print(\"Hospitalization rates for asymptomatic patients by age and sex:\")\n",
        "print(asymptomatic_hosp_by_age_sex)\n",
        "print(\"\\nHospitalization rates for symptomatic patients by age and sex:\")\n",
        "print(symptomatic_hosp_by_age_sex)\n",
        "\n",
        "# Create a bar chart for overall hospitalization rates\n",
        "categories = ['Asymptomatic', 'Symptomatic']\n",
        "hospitalization_rates = [asymptomatic_hosp_rate, symptomatic_hosp_rate]\n",
        "\n",
        "plt.figure(figsize=(8, 5))\n",
        "bars = plt.bar(categories, hospitalization_rates, color=['blue', 'orange'], width=0.5)\n",
        "plt.xlabel('Symptom Status')\n",
        "plt.ylabel('Hospitalization Rate (%)')\n",
        "plt.title('Hospitalization Rates: Asymptomatic vs Symptomatic Patients')\n",
        "plt.ylim(0, max(hospitalization_rates) + 10)\n",
        "plt.grid(axis='y', linestyle='--', alpha=0.7)\n",
        "\n",
        "# Annotate bars with percentage values\n",
        "for bar in bars:\n",
        "    height = bar.get_height()\n",
        "    plt.text(bar.get_x() + bar.get_width() / 2, height + 1, f'{height:.2f}%', ha='center', va='bottom', fontweight='bold')\n",
        "\n",
        "plt.tight_layout()\n",
        "plt.show()\n",
        "\n",
        "# Create heatmaps for hospitalization rates by age and sex\n",
        "fig, axes = plt.subplots(1, 2, figsize=(16, 8))\n",
        "\n",
        "sns.heatmap(asymptomatic_hosp_by_age_sex.loc[:, 'Yes'].unstack(), annot=True, cmap='Blues', ax=axes[0])\n",
        "axes[0].set_title('Hospitalization Rates for Asymptomatic Patients')\n",
        "axes[0].set_xlabel('Sex')\n",
        "axes[0].set_ylabel('Age Group')\n",
        "\n",
        "sns.heatmap(symptomatic_hosp_by_age_sex.loc[:, 'Yes'].unstack().drop('Other', axis=1), annot=True, cmap='Oranges', ax=axes[1])\n",
        "axes[1].set_title('Hospitalization Rates for Symptomatic Patients')\n",
        "axes[1].set_xlabel('Sex')\n",
        "axes[1].set_ylabel('Age Group')\n",
        "\n",
        "plt.tight_layout()\n",
        "plt.show()\n"
      ]
    },
    {
      "cell_type": "markdown",
      "metadata": {
        "id": "I1QqxLuUyeL_"
      },
      "source": [
        "**Interpretation**\n",
        "\n",
        "\n",
        "---\n",
        "\n",
        "\n",
        "**Overall Hospitalization Rates**\n",
        "\n",
        "- Asymptomatic Patients: 6.36%\n",
        "- Symptomatic Patients: 14.30%\n",
        "\n",
        "**Hospitalization Rates by Age and Sex**\n",
        "\n",
        "\n",
        "- For individuals aged 0 to 17 years the hospitalization rate is 1.77%,\n",
        "- for females and 1.63% for males.\n",
        "- In the age group of 18 to 49 years the hospitalization rate is 6.15% for females and 4.00% for males.\n",
        " Among those aged between 50 to 64 years the hospitalization rate is reported at 5.94% for females and 7.56% for males.\n",
        " For individuals aged 65 and above the hospitalization rates stand at 12.25% for females and 14.06% for males.\n",
        "\n",
        "In patients within the age range of 0 to17 years the hospitalization rate is noted at, approximately3.23%for %for males.\n"
      ]
    },
    {
      "cell_type": "markdown",
      "metadata": {
        "id": "bllAl789OaGN"
      },
      "source": [
        "5. What are the  frquency of  common symptoms reported by COVID-19 patients, and how do they vary across different age groups and genders?"
      ]
    },
    {
      "cell_type": "code",
      "execution_count": null,
      "metadata": {
        "id": "I7qgFUXR4r6b"
      },
      "outputs": [],
      "source": [
        "# Step 1: Data Preparation\n",
        "# Extract columns related to symptoms, age group, and sex\n",
        "symptom_data = df_part1[['symptom_status', 'age_group', 'sex']]\n",
        "\n",
        "# Step 2: Data Cleaning\n",
        "# Drop rows where symptom_status is 'Unknown' or 'Missing'\n",
        "symptom_data = symptom_data[(symptom_data['symptom_status'] != 'Unknown') & (symptom_data['symptom_status'] != 'Missing')]\n",
        "\n",
        "# Step 3: Data Analysis\n",
        "# Calculate the frequency of each symptom\n",
        "symptom_frequency = symptom_data['symptom_status'].value_counts()\n",
        "\n",
        "# Group the data by age group and sex to analyze symptom distribution\n",
        "symptom_distribution = symptom_data.groupby(['age_group', 'sex'])['symptom_status'].value_counts(normalize=True).unstack().fillna(0)\n",
        "\n",
        "# Step 4: Visualization\n",
        "# Visualization 1: Overall frequency of symptoms\n",
        "plt.figure(figsize=(12, 6))\n",
        "sns.barplot(x=symptom_frequency.index, y=symptom_frequency.values, palette='viridis')\n",
        "plt.title('Frequency of Reported Symptoms')\n",
        "plt.xlabel('Symptom')\n",
        "plt.ylabel('Frequency')\n",
        "plt.xticks(rotation=45, ha='right')\n",
        "plt.tight_layout()\n",
        "plt.show()\n",
        "\n",
        "# Visualization 2: Symptom distribution by age group and sex\n",
        "plt.figure(figsize=(12, 8))\n",
        "sns.heatmap(symptom_distribution, cmap='viridis', annot=True, fmt=\".2f\")\n",
        "plt.title('Symptom Distribution by Age Group and Sex')\n",
        "plt.xlabel('Symptom')\n",
        "plt.ylabel('Demographic')\n",
        "plt.tight_layout()\n",
        "plt.show()\n"
      ]
    },
    {
      "cell_type": "markdown",
      "metadata": {
        "id": "ex9aH3ZTGFM-"
      },
      "source": [
        "**Symptoms Frequency Overview**;\n",
        "\n",
        "The reported symptoms are typically displayed prominently on the bar graph.\n",
        "By looking at the bar graph we can see how often each symptom occurs, giving us an idea of which symptomsre most common among individuals, with COVID 19.\n",
        "Symptom Patterns Across Age and Gender;\n",
        "\n",
        "The heatmap illustrates the proportion of reported symptoms across age groups and genders.\n",
        "Analyzing the heatmap allows us to pinpoint whether certain symptoms are more prevalent in categories.\n",
        "For instance we may notice variations in symptom prevalence between males and females, across age brackets."
      ]
    },
    {
      "cell_type": "markdown",
      "metadata": {
        "id": "9LRtuMIyOijG"
      },
      "source": [
        "##PART 3: Hypothesis Testing:\n",
        "\n",
        "---\n",
        "\n",
        "\n",
        "\n",
        "\n"
      ]
    },
    {
      "cell_type": "markdown",
      "metadata": {
        "id": "X2Qm_HqHOyPP"
      },
      "source": [
        "###3.1 Formulate a hypothesis test to assess the validity of this claim given the available data:\n",
        "\n",
        "● State the test you will use and justify your choice.\n",
        "\n",
        "● Clearly state the hypotheses.\n",
        "\n",
        "● Conduct the test and report the result.\n",
        "\n",
        "● Make a conclusion as to the validity of the claim, assume a significance level\n",
        "of 0.05."
      ]
    },
    {
      "cell_type": "markdown",
      "metadata": {
        "id": "5W_DBZGbPBgH"
      },
      "source": [
        "#### 1. I will solve by two different tests, but the hypotheses will be the same"
      ]
    },
    {
      "cell_type": "markdown",
      "metadata": {
        "id": "Tlc_SdAiPCCm"
      },
      "source": [
        "#### 2.  let's Formulates the hypothesis test:\n",
        "- $H_0$ :There is no association between the probability of death due to COVID-19 and patient demographics.\n",
        "\n",
        "- $H_1$ : There is a strong association between the probability of death due to COVID-19 and patient demographics."
      ]
    },
    {
      "cell_type": "markdown",
      "metadata": {
        "id": "vg9K-5ZXPIT1"
      },
      "source": [
        "#### 3. First Test Chosen: Anova\n",
        "\n",
        "- Justification: we are comparing the mean probability of death across different demographic groups and ANOVA allows us to determine whether there are statistically significant differences in the mean probability of death among the different demographic groups."
      ]
    },
    {
      "cell_type": "markdown",
      "metadata": {
        "id": "LBmAt2FcPQPB"
      },
      "source": [
        "##### Conduct the test\n"
      ]
    },
    {
      "cell_type": "code",
      "execution_count": null,
      "metadata": {
        "id": "RqHQegiscTYD"
      },
      "outputs": [],
      "source": [
        "dataHyp = df_part1[['age_group', 'sex', 'race','death_yn']].copy()\n",
        "dataHyp = dataHyp[~dataHyp['age_group'].isin(['Missing','Unknown'])]\n",
        "dataHyp = dataHyp[~dataHyp['sex'].isin(['Missing', 'Unknown'])]\n",
        "dataHyp = dataHyp[~dataHyp['race'].isin(['Missing', 'Unknown'])]\n",
        "dataHyp = dataHyp[~dataHyp['death_yn'].isin(['Missing', 'Unknown'])]\n",
        "dataHyp.dropna(inplace=True)\n",
        "\n",
        "dataHyp[['age_group', 'sex', 'race']] = dataHyp[['age_group', 'sex', 'race']].fillna('Unknown')\n",
        "dataHyp['combined'] = dataHyp[['age_group', 'sex', 'race']].astype(str).agg('_'.join, axis=1)\n",
        "\n",
        "dataHyp['death_yn_numeric'] = dataHyp['death_yn'].apply(lambda x: 1 if x == 'Yes' else 0)\n",
        "\n",
        "# Prepare the data for ANOVA\n",
        "groups = [dataHyp['death_yn_numeric'][dataHyp['combined'] == combined] for combined in dataHyp['combined'].unique()]\n",
        "\n",
        "# Perform the one-way ANOVA\n",
        "f_statistic, p_value = f_oneway(*groups)\n",
        "\n",
        "# Print the results\n",
        "print(\"F-statistic:\", f_statistic)\n",
        "print(\"p-value:\", p_value)\n",
        "\n",
        "# Interpret the result\n",
        "alpha = 0.05\n",
        "if p_value < alpha:\n",
        "    print(\"Reject the null hypothesis (H₀): There is an association between the probability of death due to COVID-19 and patient demographics \")\n",
        "else:\n",
        "    print(\"Fail to reject the null hypothesis (H₀): There is no association between the probability of death due to COVID-19 and patient demographics \")"
      ]
    },
    {
      "cell_type": "markdown",
      "metadata": {
        "id": "nuPISsMTgE8m"
      },
      "source": [
        "##### Commenting on test results:"
      ]
    },
    {
      "cell_type": "markdown",
      "metadata": {
        "id": "6LjbzGGtgJnp"
      },
      "source": [
        "Since the p-value (0.0) is less than the significance level (α = 0.05), we reject the null hypothesis ($H_0$). Therefore, we conclude that there is an association between the probability of death due to COVID-19 and patient demographics."
      ]
    },
    {
      "cell_type": "markdown",
      "metadata": {
        "id": "zIKNy8Bid8QB"
      },
      "source": [
        "#### 3. Second Test Chosen: Chi-squared\n",
        "\n",
        "- Justification: The chi-squared test of independence is used to determine whether there is a significant association between two categorical variables."
      ]
    },
    {
      "cell_type": "markdown",
      "metadata": {
        "id": "erIQc1tqg_xz"
      },
      "source": [
        "##### Conduct the test"
      ]
    },
    {
      "cell_type": "code",
      "execution_count": null,
      "metadata": {
        "id": "SmOJQELOPVQ_"
      },
      "outputs": [],
      "source": [
        "dataHyp = df_part1[['age_group', 'sex', 'race','death_yn']].copy()\n",
        "dataHyp = dataHyp[~dataHyp['age_group'].isin(['Missing','Unknown'])]\n",
        "dataHyp = dataHyp[~dataHyp['sex'].isin(['Missing', 'Unknown'])]\n",
        "dataHyp = dataHyp[~dataHyp['race'].isin(['Missing', 'Unknown'])]\n",
        "dataHyp = dataHyp[~dataHyp['death_yn'].isin(['Missing', 'Unknown'])]\n",
        "dataHyp.dropna(inplace=True)\n",
        "\n",
        "dataHyp[['age_group', 'sex', 'race']] = dataHyp[['age_group', 'sex', 'race']].fillna('Unknown')\n",
        "dataHyp['combined'] = dataHyp[['age_group', 'sex', 'race']].astype(str).agg('_'.join, axis=1)\n",
        "\n",
        "# Create a contingency table for combined groups vs. death outcome\n",
        "contingency_table = pd.crosstab(dataHyp['combined'], dataHyp['death_yn'])\n",
        "\n",
        "# Perform chi-square test for combined groups\n",
        "chi2_statistic, p_value, dof, expected = chi2_contingency(contingency_table)\n",
        "\n",
        "# Print the results\n",
        "print(\"Chi-square Statistic:\", chi2_statistic)\n",
        "print(\"p-value:\", p_value)\n",
        "print(\"Degrees of Freedom:\", dof)\n",
        "\n",
        "# Interpret the result\n",
        "alpha = 0.05\n",
        "if p_value < alpha:\n",
        "    print(\"Reject the null hypothesis (H₀): There is a significant association between the probability of death due to COVID-19 and patient demographics.\")\n",
        "else:\n",
        "    print(\"Fail to reject the null hypothesis (H₀): There is no significant association between the probability of death due to COVID-19 and patient demographics.\")"
      ]
    },
    {
      "cell_type": "markdown",
      "metadata": {
        "id": "fcMtyZzYhDs2"
      },
      "source": [
        "##### Commenting on test results:"
      ]
    },
    {
      "cell_type": "markdown",
      "metadata": {
        "id": "--KH5rH5hEvv"
      },
      "source": [
        "Similar to the ANOVA test, the p-value (0.0) from the chi-squared test is less than the significance level (α = 0.05). Hence, we reject the null hypothesis ($H_0$). This implies that there is a significant association between the probability of death due to COVID-19 and patient demographics."
      ]
    },
    {
      "cell_type": "markdown",
      "metadata": {
        "id": "zXRqmTWZhaDr"
      },
      "source": [
        "#### Overall Conclusion:"
      ]
    },
    {
      "cell_type": "markdown",
      "metadata": {
        "id": "Q7ifT_vihd7A"
      },
      "source": [
        "Both statistical tests provide strong evidence to support the alternative hypothesis ($H_1$), indicating a significant association between the probability of death due to COVID-19 and patient demographics. Therefore, we can conclude that patient demographics (age, sex, race) play a role in determining the probability of death due to COVID-19."
      ]
    },
    {
      "cell_type": "markdown",
      "metadata": {
        "id": "2A4xUKdZPbfW"
      },
      "source": [
        "### 3.2 Come up with your own claim from the available data and conduct a hypothesis test for it following in the same steps"
      ]
    },
    {
      "cell_type": "markdown",
      "metadata": {
        "id": "Aqlp6SRXiyEU"
      },
      "source": [
        "#### 1. Claim: \"The people who are hospitalized are more likely to die\""
      ]
    },
    {
      "cell_type": "markdown",
      "metadata": {
        "id": "swBmyzRFippd"
      },
      "source": [
        "#### 2.  let's Formulates the hypothesis test:\n",
        "- $H_0$ :The proportion of people who die among those who are hospitalized is the same as the proportion of people who die among those who are not hospitalized.\n",
        "\n",
        "- $H_1$ : The proportion of people who die among those who are hospitalized is higher than the proportion of people who die among those who are not hospitalized."
      ]
    },
    {
      "cell_type": "markdown",
      "metadata": {
        "id": "uIgux2q3icKv"
      },
      "source": [
        "#### 3. Second Test Chosen: z-Tesrt\n",
        "\n",
        "- Justification:  because we want to compare the proportion of people who die among those who are hospitalized to the proportion of people who die among those who are not hospitalized.**bold text**"
      ]
    },
    {
      "cell_type": "markdown",
      "metadata": {
        "id": "mPdWnNkAikon"
      },
      "source": [
        "##### Conduct the test"
      ]
    },
    {
      "cell_type": "code",
      "execution_count": null,
      "metadata": {
        "id": "DVmlyOjsiYee"
      },
      "outputs": [],
      "source": [
        "from statsmodels.stats.proportion import proportions_ztest\n",
        "\n",
        "# Data Preparation\n",
        "data = df_part1[['hosp_yn', 'death_yn']].copy()\n",
        "data = data.dropna()\n",
        "data = data[(data['hosp_yn'] != 'Unknown') & (data['death_yn'] != 'Unknown') & (data['death_yn'] != 'Missing')]\n",
        "\n",
        "# Calculate Proportions\n",
        "hospitalized_deaths = data[data['hosp_yn'] == 'Yes']['death_yn'].value_counts()\n",
        "not_hospitalized_deaths = data[data['hosp_yn'] == 'No']['death_yn'].value_counts()\n",
        "\n",
        "# Z-test for Proportions\n",
        "count = [hospitalized_deaths['Yes'], not_hospitalized_deaths['Yes']]\n",
        "nobs = [hospitalized_deaths.sum(), not_hospitalized_deaths.sum()]\n",
        "\n",
        "stat, p_value = proportions_ztest(count, nobs, alternative='larger')\n",
        "\n",
        "# Report the Result\n",
        "print(\"Z-test Statistic:\", stat)\n",
        "print(\"p-value:\", p_value)\n",
        "\n",
        "# Conclusion\n",
        "alpha = 0.05\n",
        "if p_value < alpha:\n",
        "    print(\"Reject the null hypothesis (H₀): The people who are hospitalized are more likely to die.\")\n",
        "else:\n",
        "    print(\"Fail to reject the null hypothesis (H₀): There is no significant difference in the likelihood of death between people who are hospitalized and those who are not.\")\n"
      ]
    },
    {
      "cell_type": "markdown",
      "metadata": {
        "id": "fcFECmg7YbLw"
      },
      "source": [
        "#### 3.Conclusion"
      ]
    },
    {
      "cell_type": "markdown",
      "metadata": {
        "id": "-o_uqDd4jBKP"
      },
      "source": [
        "Based on the p-value obtained from the z-test for proportions, we conclude that the people who are hospitalized are more likely to die. This conclusion is drawn at a significance level of 0.05."
      ]
    },
    {
      "cell_type": "markdown",
      "metadata": {
        "id": "1Sy6AYD1PuI1"
      },
      "source": [
        "##PART 4: Regression Analysis:\n",
        "\n",
        "---\n",
        "\n"
      ]
    },
    {
      "cell_type": "markdown",
      "metadata": {
        "id": "-KaDmHtMP7Qh"
      },
      "source": [
        " **Use the COVID Case Surveillance dataset to fit a regression model that predicts the total\n",
        "percent (or proportion) of deaths out of all COVID cases in a given month based on :**\n",
        "\n",
        "- Gender distribution of all cases over the month (Proportion or % of females and\n",
        "males).\n",
        "\n",
        "- Age distribution of all cases over the month (Proportion or % of each age group).\n",
        "\n",
        "- Proportion (or %) of all cases over the month that end up in the ICU.\n",
        "\n",
        "- Proportion (or %) of all cases over the month that end up hospitalized.\n",
        "\n",
        "1. Report your model’s coefficients and p-values.\n",
        "\n",
        "2. Which of these variables are good predictors of the variabilities in the target? Which are bad ones?\n",
        "\n",
        "3. Are any of these predictors correlated with each other?\n",
        "\n",
        "4. Experiment with different ways to improve the fit and interpretability of the model.\n",
        "For example:\n",
        "- Add or remove the intercept.\n",
        "- Introduce higher order terms.\n",
        "- Remove outliers if any."
      ]
    },
    {
      "cell_type": "code",
      "execution_count": null,
      "metadata": {
        "id": "QaqdL4q6QSkH"
      },
      "outputs": [],
      "source": [
        "import statsmodels.api as sm\n",
        "import numpy as np\n",
        "import pandas as pd\n",
        "\n",
        "# Drop columns\n",
        "columns_to_drop_part1 = ['state_fips_code', 'res_county', 'county_fips_code', 'ethnicity',\n",
        "                   'case_positive_specimen_interval', 'case_onset_interval', 'process', 'exposure_yn',\n",
        "                   'current_status']\n",
        "df_part4 = df1.drop(columns=columns_to_drop_part1)\n",
        "\n",
        "# Removing duplicates\n",
        "df_part4 = df_part4.drop_duplicates()\n",
        "\n",
        "df_part4['sex'] = df_part4['sex'].replace({'Female': 1, 'Male': 0, 'Unknown': None, 'Missing': None, 'NA': None, 'Other': None})\n",
        "df_part4['age_group'] = df_part4['age_group'].replace({'Unknown': None, 'Missing': None, 'NA': None, 'Other': None})\n",
        "df_part4['icu_yn'] = df_part4['icu_yn'].replace({'Yes': 1, 'No': 0, 'Unknown': None, 'Missing': None, 'NA': None, 'Other': None})\n",
        "df_part4['hosp_yn'] = df_part4['hosp_yn'].replace({'Yes': 1, 'No': 0, 'Unknown': None, 'Missing': None, 'NA': None, 'Other': None})\n",
        "df_part4['death_yn'] = df_part4['death_yn'].replace({'Yes': 1, 'No': 0, 'Unknown': None, 'Missing': None, 'NA': None, 'Other': None})\n",
        "df_part4['case_month'] = df_part4['case_month'].replace({'Unknown': None, 'Missing': None, 'NA': None, 'Other': None})\n",
        "df_part4 = df_part4.dropna()\n",
        "\n",
        "\n",
        "monthly_data = []\n",
        "for month in df_part4['case_month'].unique():\n",
        "    month_data = df_part4[df_part4['case_month'] == month]\n",
        "    total_cases = len(month_data)\n",
        "    female_pct = month_data['sex'].mean()\n",
        "    male_pct = 1 - female_pct\n",
        "    hosp_pct = month_data['hosp_yn'].mean()\n",
        "    icu_pct = month_data['icu_yn'].mean()\n",
        "    death_pct = month_data['death_yn'].mean()\n",
        "\n",
        "    # Extract values of age groups and calculate proportions\n",
        "    age_group_counts = month_data['age_group'].value_counts(normalize=True)\n",
        "    age_group_proportions = [age_group_counts.get(age_group, 0) for age_group in ['0 - 17 years', '18 - 49 years', '50 - 64 years', '65 + years']]\n",
        "\n",
        "    monthly_data.append([\n",
        "        death_pct,\n",
        "        [female_pct, male_pct, *age_group_proportions, hosp_pct, icu_pct]\n",
        "    ])\n",
        "\n",
        "df_monthly_data = pd.DataFrame(monthly_data, columns=['target_variable', 'predictor_variables'])\n",
        "\n",
        "\n",
        "# 3. Fit the regression model\n",
        "X = np.array([x for x in df_monthly_data['predictor_variables']])\n",
        "X = sm.add_constant(X)  # Include an intercept term if needed\n",
        "y = df_monthly_data['target_variable']\n",
        "\n",
        "model = sm.OLS(y, X).fit()  # Fit the regression model\n",
        "print(model.summary())  # Print the model summary"
      ]
    },
    {
      "cell_type": "code",
      "execution_count": null,
      "metadata": {
        "id": "DAJDqLuhBSTk"
      },
      "outputs": [],
      "source": [
        "# 1. Report your model's coefficients and p-values.\n",
        "print(\"Model Coefficients:\")\n",
        "print(model.params)\n",
        "print(\"\\nModel P-values:\")\n",
        "print(model.pvalues)\n",
        "\n",
        "# 2. Which of these variables are good predictors of the variabilities in the target? Which are bad ones?\n",
        "print(\"\\nGood Predictors (p-value < 0.05):\")\n",
        "for i, p_value in enumerate(model.pvalues):\n",
        "    if p_value < 0.05:\n",
        "        print(f\"Variable {i}: p-value = {p_value:.3f}\")\n",
        "\n",
        "print(\"\\nBad Predictors (p-value >= 0.05):\")\n",
        "for i, p_value in enumerate(model.pvalues):\n",
        "    if p_value >= 0.05:\n",
        "        print(f\"Variable {i}: p-value = {p_value:.3f}\")\n",
        "\n",
        "# 3. Are any of these predictors correlated with each other?\n",
        "print(\"\\nCorrelation Matrix:\")\n",
        "correlation_matrix = np.corrcoef(X.T)\n",
        "print(correlation_matrix)\n",
        "\n",
        "# 4. Experiment with different ways to improve the fit and interpretability of the model.\n",
        "# Add or remove the intercept\n",
        "model_no_intercept = sm.OLS(y, X[:, 1:]).fit()\n",
        "print(\"\\nModel Summary (No Intercept):\")\n",
        "print(model_no_intercept.summary())\n",
        "\n",
        "# Introduce higher order terms\n",
        "X_squared = np.square(X)\n",
        "model_higher_order = sm.OLS(y, np.hstack((X, X_squared))).fit()\n",
        "print(\"\\nModel Summary (Higher Order Terms):\")\n",
        "print(model_higher_order.summary())\n",
        "\n",
        "# Remove outliers\n",
        "outlier_threshold = 3  # Standard deviations\n",
        "outliers = np.abs(model.resid) > outlier_threshold * model.resid.std()\n",
        "df_monthly_data_cleaned = df_monthly_data[~outliers]\n",
        "\n",
        "X_cleaned = np.array([x for x in df_monthly_data_cleaned['predictor_variables']])\n",
        "X_cleaned = sm.add_constant(X_cleaned)\n",
        "y_cleaned = df_monthly_data_cleaned['target_variable']\n",
        "\n",
        "model_cleaned = sm.OLS(y_cleaned, X_cleaned).fit()\n",
        "print(\"\\nModel Summary (Cleaned):\")\n",
        "print(model_cleaned.summary())"
      ]
    },
    {
      "cell_type": "code",
      "execution_count": null,
      "metadata": {
        "id": "CmD9zQiPBS8D"
      },
      "outputs": [],
      "source": [
        "residuals = model.resid\n",
        "\n",
        "\n",
        "# Test for normality of residuals\n",
        "import statsmodels.api as sm\n",
        "sm.qqplot(residuals, line='s')\n",
        "plt.show()\n",
        "\n",
        "# Perform a Durbin-Watson test for autocorrelation\n",
        "dw_statistic = sm.stats.durbin_watson(residuals)\n",
        "print(f\"Durbin-Watson statistic: {dw_statistic:.2f}\")"
      ]
    },
    {
      "cell_type": "markdown",
      "source": [
        "Description:\n",
        "Usage:\n",
        "Collection:\n",
        "- collect the desired data, from different columns and make them in an integrated data frame\n",
        "Cleaning:\n",
        "remove all the nulls and unneeded values\n",
        "Steps:\n",
        "- collect the desired data, from different columns and make them in an integrated data frame\n",
        "- train the model on these data\n",
        "- print all needed outputs\n",
        "- some edition and improvements\n",
        "- some analysis of the model\n",
        "- testing the model\n",
        "Challenges:\n",
        "put the data in the desired shape to train the model\n",
        "Limitations:\n",
        "Assumptions:\n",
        "we can ignore the missing data"
      ],
      "metadata": {
        "id": "RCs7DQoFWpeQ"
      }
    },
    {
      "cell_type": "markdown",
      "metadata": {
        "id": "RWdAlKzSQkef"
      },
      "source": [
        "### PART 5: Bonus Task"
      ]
    },
    {
      "cell_type": "markdown",
      "metadata": {
        "id": "v4cAzTnOQoBz"
      },
      "source": [
        " **Train a machine/deep learning classifier to predict the likelihood of death due to\n",
        "COVID-19 using any/all of the relevant attributes in the COVID case surveillance\n",
        "dataset.**"
      ]
    },
    {
      "cell_type": "code",
      "execution_count": null,
      "metadata": {
        "id": "zpJVksFHQ061"
      },
      "outputs": [],
      "source": []
    }
  ],
  "metadata": {
    "colab": {
      "provenance": [],
      "collapsed_sections": [
        "trfVr0SIKqmZ",
        "v4Hy8bBiKUCP",
        "4BsddiuTL1S1",
        "9LRtuMIyOijG",
        "1Sy6AYD1PuI1",
        "RWdAlKzSQkef"
      ]
    },
    "kernelspec": {
      "display_name": "Python 3",
      "name": "python3"
    },
    "language_info": {
      "name": "python"
    }
  },
  "nbformat": 4,
  "nbformat_minor": 0
}