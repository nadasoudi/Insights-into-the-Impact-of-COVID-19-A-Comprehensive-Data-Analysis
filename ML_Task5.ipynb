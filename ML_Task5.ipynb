{
  "nbformat": 4,
  "nbformat_minor": 0,
  "metadata": {
    "colab": {
      "provenance": []
    },
    "kernelspec": {
      "name": "python3",
      "display_name": "Python 3"
    },
    "language_info": {
      "name": "python"
    }
  },
  "cells": [
    {
      "cell_type": "markdown",
      "source": [
        "**1. Introduction**\n",
        "\n",
        "This documents the analysis of a COVID-19 dataset aimed at predicting mortality outcomes. The analysis includes data preprocessing, undersampling to handle class imbalance, feature selection, model training using XGBoost, and evaluation of the model's performance."
      ],
      "metadata": {
        "id": "eG7mn8tSVZPG"
      }
    },
    {
      "cell_type": "markdown",
      "source": [
        "**2. Structure of the Project**\n",
        "\n",
        "The project comprises several components:\n",
        "\n",
        "Data loading and preprocessing: The dataset is loaded from Google Drive, duplicates are removed, and non-informative values in the 'death_yn' column are filtered out.\n",
        "Undersampling: As the dataset is imbalanced, undersampling is performed to address this issue.\n",
        "Feature selection: Relevant features for mortality prediction are selected.\n",
        "Model training: XGBoost classifier is trained on the preprocessed data.\n",
        "Evaluation: The trained model is evaluated using various metrics like accuracy, precision, recall, and F1-score."
      ],
      "metadata": {
        "id": "ZvWqYH9bWT7K"
      }
    },
    {
      "cell_type": "markdown",
      "source": [
        "**3. Description of Functions and Usage**\n",
        "\n",
        "- The code includes several functions and pipelines:\n",
        "\n",
        "\n",
        "- Data loading: The data is loaded from Google Drive using the drive.mount() function.\n",
        "- Undersampling: Resampling of the majority class (death=0) is done using the resample() function from sklearn.utils.\n",
        "Feature selection: Relevant features are selected and stored in the features list.\n",
        "- Preprocessing pipeline: Categorical variables are one-hot encoded using -\n",
        "- OneHotEncoder and missing values are imputed using SimpleImputer.\n",
        "- Model training pipeline: The XGBoost classifier is trained using a pipeline consisting of preprocessing and classification steps.\n",
        "- Evaluation metrics: Various evaluation metrics such as accuracy, precision, recall, F1-score, confusion matrix, and classification report are calculated."
      ],
      "metadata": {
        "id": "C-9rQ-G6WiMp"
      }
    },
    {
      "cell_type": "markdown",
      "source": [
        "**4 Data Collection and Cleaning**\n",
        "\n",
        "Data Source: The dataset is assumed to be stored in a CSV file on Google Drive.\n",
        "Data Cleaning: Duplicates are removed, and non-informative values in the 'death_yn' column are filtered out."
      ],
      "metadata": {
        "id": "2frwyVsWW81Q"
      }
    },
    {
      "cell_type": "markdown",
      "source": [],
      "metadata": {
        "id": "gsv4UmIPXOgS"
      }
    },
    {
      "cell_type": "code",
      "execution_count": null,
      "metadata": {
        "colab": {
          "base_uri": "https://localhost:8080/"
        },
        "id": "Ylv8ZBmioPGG",
        "outputId": "9d5bbf20-ceba-444c-8e55-88131892ef74"
      },
      "outputs": [
        {
          "output_type": "stream",
          "name": "stdout",
          "text": [
            "Mounted at /content/drive\n"
          ]
        },
        {
          "output_type": "stream",
          "name": "stderr",
          "text": [
            "<ipython-input-2-4c85a555b32e>:6: DtypeWarning: Columns (3) have mixed types. Specify dtype option on import or set low_memory=False.\n",
            "  df = pd.read_csv(data_path)\n"
          ]
        }
      ],
      "source": [
        "import pandas as pd\n",
        "from google.colab import drive\n",
        "drive.mount('/content/drive')\n",
        "# Load the dataset\n",
        "data_path = '/content/drive/Shareddrives/Pinkode/data.csv'\n",
        "df = pd.read_csv(data_path)\n"
      ]
    },
    {
      "cell_type": "code",
      "source": [
        "# Removing duplicates\n",
        "df = df.drop_duplicates()\n",
        "\n",
        "import pandas as pd\n",
        "from sklearn.utils import resample\n",
        "\n",
        "# Filter out non-informative values in the 'death_yn' column\n",
        "df = df[df['death_yn'].isin(['Yes', 'No'])]\n",
        "\n",
        "# Create a binary outcome variable for death\n",
        "df['death'] = (df['death_yn'] == 'Yes').astype(int)\n",
        "\n",
        "# Count the number of \"Yes\" and \"No\" values\n",
        "death_counts = df['death'].value_counts()\n",
        "\n",
        "# Get the number of \"Yes\" values (minority class)\n",
        "minority_class_count = death_counts.iloc[1]  # Assuming \"Yes\" is at index 1\n",
        "\n",
        "# Randomly sample 10,000 rows from the majority class (\"No\")\n",
        "df_majority_undersampled = resample(df[df['death'] == 0],  # Select rows with death=0 (\"No\")\n",
        "                                     replace=False,    # Don't allow replacement during sampling\n",
        "                                     n_samples=49000,  # Sample 10,000 rows\n",
        "                                     random_state=42)  # Set a random seed for reproducibility\n",
        "\n",
        "# Combine the undersampled majority with the minority class\n",
        "df_undersampled = pd.concat([df_majority_undersampled, df[df['death'] == 1]])  # Combine with death=1 (\"Yes\")\n",
        "\n",
        "# Shuffle the combined DataFrame\n",
        "df_undersampled = df_undersampled.sample(frac=1, random_state=42).reset_index(drop=True)  # Shuffle rows\n",
        "\n",
        "# Now you can proceed with feature selection, model training, etc. using df_undersampled\n"
      ],
      "metadata": {
        "id": "0nDEi4hk4o_H",
        "colab": {
          "base_uri": "https://localhost:8080/"
        },
        "outputId": "4a349d52-9bb8-4caf-a7f6-316b8ea24819"
      },
      "execution_count": null,
      "outputs": [
        {
          "output_type": "stream",
          "name": "stderr",
          "text": [
            "<ipython-input-3-d69d6c0ba845>:11: SettingWithCopyWarning: \n",
            "A value is trying to be set on a copy of a slice from a DataFrame.\n",
            "Try using .loc[row_indexer,col_indexer] = value instead\n",
            "\n",
            "See the caveats in the documentation: https://pandas.pydata.org/pandas-docs/stable/user_guide/indexing.html#returning-a-view-versus-a-copy\n",
            "  df['death'] = (df['death_yn'] == 'Yes').astype(int)\n"
          ]
        }
      ]
    },
    {
      "cell_type": "code",
      "source": [
        "\n",
        "# Selecting relevant features\n",
        "features = ['symptom_status','res_state','age_group', 'sex', 'race', 'ethnicity', 'hosp_yn', 'icu_yn', 'underlying_conditions_yn']\n",
        "X = df[features]\n",
        "y = df['death']\n"
      ],
      "metadata": {
        "id": "sqZixh8_oqXt"
      },
      "execution_count": null,
      "outputs": []
    },
    {
      "cell_type": "code",
      "source": [
        "death_counts = df_undersampled['death'].value_counts()\n",
        "print(death_counts)"
      ],
      "metadata": {
        "colab": {
          "base_uri": "https://localhost:8080/"
        },
        "id": "-POzSP166jsL",
        "outputId": "18d5a873-0a2a-45f5-fcf2-e6620c5f6c2f"
      },
      "execution_count": null,
      "outputs": [
        {
          "output_type": "stream",
          "name": "stdout",
          "text": [
            "death\n",
            "1    49359\n",
            "0    49000\n",
            "Name: count, dtype: int64\n"
          ]
        }
      ]
    },
    {
      "cell_type": "code",
      "source": [
        "from sklearn.model_selection import train_test_split\n",
        "from sklearn.preprocessing import OneHotEncoder\n",
        "from sklearn.compose import ColumnTransformer\n",
        "from sklearn.pipeline import Pipeline\n",
        "from sklearn.impute import SimpleImputer\n",
        "\n",
        "# One-hot encoding for categorical variables\n",
        "categorical_features = ['symptom_status','res_state','age_group', 'sex', 'race', 'ethnicity', 'hosp_yn', 'icu_yn', 'underlying_conditions_yn']\n",
        "categorical_transformer = Pipeline(steps=[\n",
        "    ('imputer', SimpleImputer(strategy='most_frequent')),\n",
        "    ('onehot', OneHotEncoder(handle_unknown='ignore'))\n",
        "])\n",
        "\n",
        "# Preprocessing pipeline\n",
        "preprocessor = ColumnTransformer(\n",
        "    transformers=[\n",
        "        ('cat', categorical_transformer, categorical_features)\n",
        "    ])\n",
        "\n",
        "\n",
        "\n",
        "# Splitting data into training and testing sets\n",
        "X_train, X_test, y_train, y_test = train_test_split(X, y, test_size=0.2, random_state=42)\n"
      ],
      "metadata": {
        "id": "nR9jFy4LpPyG"
      },
      "execution_count": null,
      "outputs": []
    },
    {
      "cell_type": "code",
      "source": [],
      "metadata": {
        "colab": {
          "base_uri": "https://localhost:8080/",
          "height": 106
        },
        "id": "0RvwRFM8pbQn",
        "outputId": "a6d5f1b5-114b-4f9b-a0f7-9b5613f3ef1c"
      },
      "execution_count": null,
      "outputs": [
        {
          "output_type": "error",
          "ename": "SyntaxError",
          "evalue": "incomplete input (<ipython-input-6-0d75f13b7f31>, line 1)",
          "traceback": [
            "\u001b[0;36m  File \u001b[0;32m\"<ipython-input-6-0d75f13b7f31>\"\u001b[0;36m, line \u001b[0;32m1\u001b[0m\n\u001b[0;31m    '''\u001b[0m\n\u001b[0m    ^\u001b[0m\n\u001b[0;31mSyntaxError\u001b[0m\u001b[0;31m:\u001b[0m incomplete input\n"
          ]
        }
      ]
    },
    {
      "cell_type": "code",
      "source": [
        "# another model approch\n",
        "from xgboost import XGBClassifier\n",
        "from sklearn.pipeline import Pipeline\n",
        "\n",
        "# Create a pipeline with preprocessing and XGBoost model\n",
        "model = Pipeline(steps=[\n",
        "    ('preprocessor', preprocessor),  # Replace 'preprocessor' with your actual preprocessing step\n",
        "    ('classifier', XGBClassifier(objective='binary:logistic', random_state=42))\n",
        "])\n",
        "\n",
        "# Train the model\n",
        "model.fit(X_train, y_train)\n"
      ],
      "metadata": {
        "colab": {
          "base_uri": "https://localhost:8080/",
          "height": 224
        },
        "id": "J9wpynbyMxtr",
        "outputId": "6609c8f2-2198-4988-dad1-428b46bfc6dc"
      },
      "execution_count": null,
      "outputs": [
        {
          "output_type": "execute_result",
          "data": {
            "text/plain": [
              "Pipeline(steps=[('preprocessor',\n",
              "                 ColumnTransformer(transformers=[('cat',\n",
              "                                                  Pipeline(steps=[('imputer',\n",
              "                                                                   SimpleImputer(strategy='most_frequent')),\n",
              "                                                                  ('onehot',\n",
              "                                                                   OneHotEncoder(handle_unknown='ignore'))]),\n",
              "                                                  ['symptom_status',\n",
              "                                                   'res_state', 'age_group',\n",
              "                                                   'sex', 'race', 'ethnicity',\n",
              "                                                   'hosp_yn', 'icu_yn',\n",
              "                                                   'underlying_conditions_yn'])])),\n",
              "                ('classifier',\n",
              "                 XGBClassifier(base_score=No...\n",
              "                               feature_types=None, gamma=None, grow_policy=None,\n",
              "                               importance_type=None,\n",
              "                               interaction_constraints=None, learning_rate=None,\n",
              "                               max_bin=None, max_cat_threshold=None,\n",
              "                               max_cat_to_onehot=None, max_delta_step=None,\n",
              "                               max_depth=None, max_leaves=None,\n",
              "                               min_child_weight=None, missing=nan,\n",
              "                               monotone_constraints=None, multi_strategy=None,\n",
              "                               n_estimators=None, n_jobs=None,\n",
              "                               num_parallel_tree=None, random_state=42, ...))])"
            ],
            "text/html": [
              "<style>#sk-container-id-1 {color: black;background-color: white;}#sk-container-id-1 pre{padding: 0;}#sk-container-id-1 div.sk-toggleable {background-color: white;}#sk-container-id-1 label.sk-toggleable__label {cursor: pointer;display: block;width: 100%;margin-bottom: 0;padding: 0.3em;box-sizing: border-box;text-align: center;}#sk-container-id-1 label.sk-toggleable__label-arrow:before {content: \"▸\";float: left;margin-right: 0.25em;color: #696969;}#sk-container-id-1 label.sk-toggleable__label-arrow:hover:before {color: black;}#sk-container-id-1 div.sk-estimator:hover label.sk-toggleable__label-arrow:before {color: black;}#sk-container-id-1 div.sk-toggleable__content {max-height: 0;max-width: 0;overflow: hidden;text-align: left;background-color: #f0f8ff;}#sk-container-id-1 div.sk-toggleable__content pre {margin: 0.2em;color: black;border-radius: 0.25em;background-color: #f0f8ff;}#sk-container-id-1 input.sk-toggleable__control:checked~div.sk-toggleable__content {max-height: 200px;max-width: 100%;overflow: auto;}#sk-container-id-1 input.sk-toggleable__control:checked~label.sk-toggleable__label-arrow:before {content: \"▾\";}#sk-container-id-1 div.sk-estimator input.sk-toggleable__control:checked~label.sk-toggleable__label {background-color: #d4ebff;}#sk-container-id-1 div.sk-label input.sk-toggleable__control:checked~label.sk-toggleable__label {background-color: #d4ebff;}#sk-container-id-1 input.sk-hidden--visually {border: 0;clip: rect(1px 1px 1px 1px);clip: rect(1px, 1px, 1px, 1px);height: 1px;margin: -1px;overflow: hidden;padding: 0;position: absolute;width: 1px;}#sk-container-id-1 div.sk-estimator {font-family: monospace;background-color: #f0f8ff;border: 1px dotted black;border-radius: 0.25em;box-sizing: border-box;margin-bottom: 0.5em;}#sk-container-id-1 div.sk-estimator:hover {background-color: #d4ebff;}#sk-container-id-1 div.sk-parallel-item::after {content: \"\";width: 100%;border-bottom: 1px solid gray;flex-grow: 1;}#sk-container-id-1 div.sk-label:hover label.sk-toggleable__label {background-color: #d4ebff;}#sk-container-id-1 div.sk-serial::before {content: \"\";position: absolute;border-left: 1px solid gray;box-sizing: border-box;top: 0;bottom: 0;left: 50%;z-index: 0;}#sk-container-id-1 div.sk-serial {display: flex;flex-direction: column;align-items: center;background-color: white;padding-right: 0.2em;padding-left: 0.2em;position: relative;}#sk-container-id-1 div.sk-item {position: relative;z-index: 1;}#sk-container-id-1 div.sk-parallel {display: flex;align-items: stretch;justify-content: center;background-color: white;position: relative;}#sk-container-id-1 div.sk-item::before, #sk-container-id-1 div.sk-parallel-item::before {content: \"\";position: absolute;border-left: 1px solid gray;box-sizing: border-box;top: 0;bottom: 0;left: 50%;z-index: -1;}#sk-container-id-1 div.sk-parallel-item {display: flex;flex-direction: column;z-index: 1;position: relative;background-color: white;}#sk-container-id-1 div.sk-parallel-item:first-child::after {align-self: flex-end;width: 50%;}#sk-container-id-1 div.sk-parallel-item:last-child::after {align-self: flex-start;width: 50%;}#sk-container-id-1 div.sk-parallel-item:only-child::after {width: 0;}#sk-container-id-1 div.sk-dashed-wrapped {border: 1px dashed gray;margin: 0 0.4em 0.5em 0.4em;box-sizing: border-box;padding-bottom: 0.4em;background-color: white;}#sk-container-id-1 div.sk-label label {font-family: monospace;font-weight: bold;display: inline-block;line-height: 1.2em;}#sk-container-id-1 div.sk-label-container {text-align: center;}#sk-container-id-1 div.sk-container {/* jupyter's `normalize.less` sets `[hidden] { display: none; }` but bootstrap.min.css set `[hidden] { display: none !important; }` so we also need the `!important` here to be able to override the default hidden behavior on the sphinx rendered scikit-learn.org. See: https://github.com/scikit-learn/scikit-learn/issues/21755 */display: inline-block !important;position: relative;}#sk-container-id-1 div.sk-text-repr-fallback {display: none;}</style><div id=\"sk-container-id-1\" class=\"sk-top-container\"><div class=\"sk-text-repr-fallback\"><pre>Pipeline(steps=[(&#x27;preprocessor&#x27;,\n",
              "                 ColumnTransformer(transformers=[(&#x27;cat&#x27;,\n",
              "                                                  Pipeline(steps=[(&#x27;imputer&#x27;,\n",
              "                                                                   SimpleImputer(strategy=&#x27;most_frequent&#x27;)),\n",
              "                                                                  (&#x27;onehot&#x27;,\n",
              "                                                                   OneHotEncoder(handle_unknown=&#x27;ignore&#x27;))]),\n",
              "                                                  [&#x27;symptom_status&#x27;,\n",
              "                                                   &#x27;res_state&#x27;, &#x27;age_group&#x27;,\n",
              "                                                   &#x27;sex&#x27;, &#x27;race&#x27;, &#x27;ethnicity&#x27;,\n",
              "                                                   &#x27;hosp_yn&#x27;, &#x27;icu_yn&#x27;,\n",
              "                                                   &#x27;underlying_conditions_yn&#x27;])])),\n",
              "                (&#x27;classifier&#x27;,\n",
              "                 XGBClassifier(base_score=No...\n",
              "                               feature_types=None, gamma=None, grow_policy=None,\n",
              "                               importance_type=None,\n",
              "                               interaction_constraints=None, learning_rate=None,\n",
              "                               max_bin=None, max_cat_threshold=None,\n",
              "                               max_cat_to_onehot=None, max_delta_step=None,\n",
              "                               max_depth=None, max_leaves=None,\n",
              "                               min_child_weight=None, missing=nan,\n",
              "                               monotone_constraints=None, multi_strategy=None,\n",
              "                               n_estimators=None, n_jobs=None,\n",
              "                               num_parallel_tree=None, random_state=42, ...))])</pre><b>In a Jupyter environment, please rerun this cell to show the HTML representation or trust the notebook. <br />On GitHub, the HTML representation is unable to render, please try loading this page with nbviewer.org.</b></div><div class=\"sk-container\" hidden><div class=\"sk-item sk-dashed-wrapped\"><div class=\"sk-label-container\"><div class=\"sk-label sk-toggleable\"><input class=\"sk-toggleable__control sk-hidden--visually\" id=\"sk-estimator-id-1\" type=\"checkbox\" ><label for=\"sk-estimator-id-1\" class=\"sk-toggleable__label sk-toggleable__label-arrow\">Pipeline</label><div class=\"sk-toggleable__content\"><pre>Pipeline(steps=[(&#x27;preprocessor&#x27;,\n",
              "                 ColumnTransformer(transformers=[(&#x27;cat&#x27;,\n",
              "                                                  Pipeline(steps=[(&#x27;imputer&#x27;,\n",
              "                                                                   SimpleImputer(strategy=&#x27;most_frequent&#x27;)),\n",
              "                                                                  (&#x27;onehot&#x27;,\n",
              "                                                                   OneHotEncoder(handle_unknown=&#x27;ignore&#x27;))]),\n",
              "                                                  [&#x27;symptom_status&#x27;,\n",
              "                                                   &#x27;res_state&#x27;, &#x27;age_group&#x27;,\n",
              "                                                   &#x27;sex&#x27;, &#x27;race&#x27;, &#x27;ethnicity&#x27;,\n",
              "                                                   &#x27;hosp_yn&#x27;, &#x27;icu_yn&#x27;,\n",
              "                                                   &#x27;underlying_conditions_yn&#x27;])])),\n",
              "                (&#x27;classifier&#x27;,\n",
              "                 XGBClassifier(base_score=No...\n",
              "                               feature_types=None, gamma=None, grow_policy=None,\n",
              "                               importance_type=None,\n",
              "                               interaction_constraints=None, learning_rate=None,\n",
              "                               max_bin=None, max_cat_threshold=None,\n",
              "                               max_cat_to_onehot=None, max_delta_step=None,\n",
              "                               max_depth=None, max_leaves=None,\n",
              "                               min_child_weight=None, missing=nan,\n",
              "                               monotone_constraints=None, multi_strategy=None,\n",
              "                               n_estimators=None, n_jobs=None,\n",
              "                               num_parallel_tree=None, random_state=42, ...))])</pre></div></div></div><div class=\"sk-serial\"><div class=\"sk-item sk-dashed-wrapped\"><div class=\"sk-label-container\"><div class=\"sk-label sk-toggleable\"><input class=\"sk-toggleable__control sk-hidden--visually\" id=\"sk-estimator-id-2\" type=\"checkbox\" ><label for=\"sk-estimator-id-2\" class=\"sk-toggleable__label sk-toggleable__label-arrow\">preprocessor: ColumnTransformer</label><div class=\"sk-toggleable__content\"><pre>ColumnTransformer(transformers=[(&#x27;cat&#x27;,\n",
              "                                 Pipeline(steps=[(&#x27;imputer&#x27;,\n",
              "                                                  SimpleImputer(strategy=&#x27;most_frequent&#x27;)),\n",
              "                                                 (&#x27;onehot&#x27;,\n",
              "                                                  OneHotEncoder(handle_unknown=&#x27;ignore&#x27;))]),\n",
              "                                 [&#x27;symptom_status&#x27;, &#x27;res_state&#x27;, &#x27;age_group&#x27;,\n",
              "                                  &#x27;sex&#x27;, &#x27;race&#x27;, &#x27;ethnicity&#x27;, &#x27;hosp_yn&#x27;,\n",
              "                                  &#x27;icu_yn&#x27;, &#x27;underlying_conditions_yn&#x27;])])</pre></div></div></div><div class=\"sk-parallel\"><div class=\"sk-parallel-item\"><div class=\"sk-item\"><div class=\"sk-label-container\"><div class=\"sk-label sk-toggleable\"><input class=\"sk-toggleable__control sk-hidden--visually\" id=\"sk-estimator-id-3\" type=\"checkbox\" ><label for=\"sk-estimator-id-3\" class=\"sk-toggleable__label sk-toggleable__label-arrow\">cat</label><div class=\"sk-toggleable__content\"><pre>[&#x27;symptom_status&#x27;, &#x27;res_state&#x27;, &#x27;age_group&#x27;, &#x27;sex&#x27;, &#x27;race&#x27;, &#x27;ethnicity&#x27;, &#x27;hosp_yn&#x27;, &#x27;icu_yn&#x27;, &#x27;underlying_conditions_yn&#x27;]</pre></div></div></div><div class=\"sk-serial\"><div class=\"sk-item\"><div class=\"sk-serial\"><div class=\"sk-item\"><div class=\"sk-estimator sk-toggleable\"><input class=\"sk-toggleable__control sk-hidden--visually\" id=\"sk-estimator-id-4\" type=\"checkbox\" ><label for=\"sk-estimator-id-4\" class=\"sk-toggleable__label sk-toggleable__label-arrow\">SimpleImputer</label><div class=\"sk-toggleable__content\"><pre>SimpleImputer(strategy=&#x27;most_frequent&#x27;)</pre></div></div></div><div class=\"sk-item\"><div class=\"sk-estimator sk-toggleable\"><input class=\"sk-toggleable__control sk-hidden--visually\" id=\"sk-estimator-id-5\" type=\"checkbox\" ><label for=\"sk-estimator-id-5\" class=\"sk-toggleable__label sk-toggleable__label-arrow\">OneHotEncoder</label><div class=\"sk-toggleable__content\"><pre>OneHotEncoder(handle_unknown=&#x27;ignore&#x27;)</pre></div></div></div></div></div></div></div></div></div></div><div class=\"sk-item\"><div class=\"sk-estimator sk-toggleable\"><input class=\"sk-toggleable__control sk-hidden--visually\" id=\"sk-estimator-id-6\" type=\"checkbox\" ><label for=\"sk-estimator-id-6\" class=\"sk-toggleable__label sk-toggleable__label-arrow\">XGBClassifier</label><div class=\"sk-toggleable__content\"><pre>XGBClassifier(base_score=None, booster=None, callbacks=None,\n",
              "              colsample_bylevel=None, colsample_bynode=None,\n",
              "              colsample_bytree=None, device=None, early_stopping_rounds=None,\n",
              "              enable_categorical=False, eval_metric=None, feature_types=None,\n",
              "              gamma=None, grow_policy=None, importance_type=None,\n",
              "              interaction_constraints=None, learning_rate=None, max_bin=None,\n",
              "              max_cat_threshold=None, max_cat_to_onehot=None,\n",
              "              max_delta_step=None, max_depth=None, max_leaves=None,\n",
              "              min_child_weight=None, missing=nan, monotone_constraints=None,\n",
              "              multi_strategy=None, n_estimators=None, n_jobs=None,\n",
              "              num_parallel_tree=None, random_state=42, ...)</pre></div></div></div></div></div></div></div>"
            ]
          },
          "metadata": {},
          "execution_count": 7
        }
      ]
    },
    {
      "cell_type": "code",
      "source": [
        "from sklearn.metrics import accuracy_score, precision_score, recall_score, f1_score, confusion_matrix, classification_report\n",
        "\n",
        "# Predictions\n",
        "y_pred = model.predict(X_test)\n",
        "\n",
        "# Evaluation metrics\n",
        "accuracy = accuracy_score(y_test, y_pred)\n",
        "precision = precision_score(y_test, y_pred)\n",
        "recall = recall_score(y_test, y_pred)\n",
        "f1 = f1_score(y_test, y_pred)\n",
        "conf_matrix = confusion_matrix(y_test, y_pred)\n",
        "class_report = classification_report(y_test, y_pred)\n",
        "\n",
        "print(f\"Accuracy: {accuracy}\")\n",
        "print(f\"Precision: {precision}\")\n",
        "print(f\"Recall: {recall}\")\n",
        "print(f\"F1-Score: {f1}\")\n",
        "print(f\"Confusion Matrix:\\n{conf_matrix}\")\n",
        "print(f\"Classification Report:\\n{class_report}\")\n"
      ],
      "metadata": {
        "colab": {
          "base_uri": "https://localhost:8080/"
        },
        "id": "4G-27BxDppjw",
        "outputId": "6343ff0c-572e-4757-9675-ebb1f05d5452"
      },
      "execution_count": null,
      "outputs": [
        {
          "output_type": "stream",
          "name": "stdout",
          "text": [
            "Accuracy: 0.9837793577051143\n",
            "Precision: 0.8359219434488252\n",
            "Recall: 0.42271674554425537\n",
            "F1-Score: 0.5614926770547717\n",
            "Confusion Matrix:\n",
            "[[393483    824]\n",
            " [  5733   4198]]\n",
            "Classification Report:\n",
            "              precision    recall  f1-score   support\n",
            "\n",
            "           0       0.99      1.00      0.99    394307\n",
            "           1       0.84      0.42      0.56      9931\n",
            "\n",
            "    accuracy                           0.98    404238\n",
            "   macro avg       0.91      0.71      0.78    404238\n",
            "weighted avg       0.98      0.98      0.98    404238\n",
            "\n"
          ]
        }
      ]
    },
    {
      "cell_type": "markdown",
      "source": [
        "**5.Challenges/Limitations/Assumptions**\n",
        "\n",
        "- Class Imbalance: The dataset suffers from class imbalance, with a significantly higher number of instances for the negative class (death=0). Undersampling is used as a solution, but this might result in loss of information.\n",
        "- Feature Selection: Features are selected based on assumed relevance to mortality prediction. The actual relevance might vary, and feature engineering could improve model performance.\n",
        "- Assumptions: The analysis assumes the provided features are sufficient for mortality prediction and that the data is representative of the population."
      ],
      "metadata": {
        "id": "f5uMKRErXRx2"
      }
    },
    {
      "cell_type": "markdown",
      "source": [
        "**6. Conclusion**\n",
        "\n",
        "This technical report outlines the process of analyzing a COVID-19 dataset for mortality prediction. It covers data preprocessing, undersampling, feature selection, model training using XGBoost, and evaluation of the model's performance. Challenges such as class imbalance and assumptions regarding feature relevance are discussed. The report provides insights into the project structure, functions, data processing steps, and limitations."
      ],
      "metadata": {
        "id": "g-m27EtjXi-0"
      }
    }
  ]
}